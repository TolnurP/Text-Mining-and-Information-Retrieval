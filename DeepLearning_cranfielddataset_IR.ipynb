{
  "nbformat": 4,
  "nbformat_minor": 0,
  "metadata": {
    "colab": {
      "provenance": []
    },
    "kernelspec": {
      "name": "python3",
      "display_name": "Python 3"
    },
    "language_info": {
      "name": "python"
    },
    "widgets": {
      "application/vnd.jupyter.widget-state+json": {
        "6a874bf3d1ca4998b36a257edbada1cf": {
          "model_module": "@jupyter-widgets/controls",
          "model_name": "HBoxModel",
          "model_module_version": "1.5.0",
          "state": {
            "_dom_classes": [],
            "_model_module": "@jupyter-widgets/controls",
            "_model_module_version": "1.5.0",
            "_model_name": "HBoxModel",
            "_view_count": null,
            "_view_module": "@jupyter-widgets/controls",
            "_view_module_version": "1.5.0",
            "_view_name": "HBoxView",
            "box_style": "",
            "children": [
              "IPY_MODEL_fe9147b3960542989fab07de5f4deaf6",
              "IPY_MODEL_c37ae3998990477a9632ba63e46211ad",
              "IPY_MODEL_fc1cda179fd84f6bbd6dd2d8c049cefc"
            ],
            "layout": "IPY_MODEL_3954d1050d424a728a274e667b18eb76"
          }
        },
        "fe9147b3960542989fab07de5f4deaf6": {
          "model_module": "@jupyter-widgets/controls",
          "model_name": "HTMLModel",
          "model_module_version": "1.5.0",
          "state": {
            "_dom_classes": [],
            "_model_module": "@jupyter-widgets/controls",
            "_model_module_version": "1.5.0",
            "_model_name": "HTMLModel",
            "_view_count": null,
            "_view_module": "@jupyter-widgets/controls",
            "_view_module_version": "1.5.0",
            "_view_name": "HTMLView",
            "description": "",
            "description_tooltip": null,
            "layout": "IPY_MODEL_e6dd7f36524c4ea488012a1a2aadd9ff",
            "placeholder": "​",
            "style": "IPY_MODEL_d3ab21c3de3640c0a04f969b64f4344e",
            "value": "Downloading builder script: 100%"
          }
        },
        "c37ae3998990477a9632ba63e46211ad": {
          "model_module": "@jupyter-widgets/controls",
          "model_name": "FloatProgressModel",
          "model_module_version": "1.5.0",
          "state": {
            "_dom_classes": [],
            "_model_module": "@jupyter-widgets/controls",
            "_model_module_version": "1.5.0",
            "_model_name": "FloatProgressModel",
            "_view_count": null,
            "_view_module": "@jupyter-widgets/controls",
            "_view_module_version": "1.5.0",
            "_view_name": "ProgressView",
            "bar_style": "success",
            "description": "",
            "description_tooltip": null,
            "layout": "IPY_MODEL_faad5d98034b4644968cd356af712d8e",
            "max": 1692,
            "min": 0,
            "orientation": "horizontal",
            "style": "IPY_MODEL_74dd828b6c9e4df5883c772d8d375385",
            "value": 1692
          }
        },
        "fc1cda179fd84f6bbd6dd2d8c049cefc": {
          "model_module": "@jupyter-widgets/controls",
          "model_name": "HTMLModel",
          "model_module_version": "1.5.0",
          "state": {
            "_dom_classes": [],
            "_model_module": "@jupyter-widgets/controls",
            "_model_module_version": "1.5.0",
            "_model_name": "HTMLModel",
            "_view_count": null,
            "_view_module": "@jupyter-widgets/controls",
            "_view_module_version": "1.5.0",
            "_view_name": "HTMLView",
            "description": "",
            "description_tooltip": null,
            "layout": "IPY_MODEL_9ef7c62837f94d56be7f6f8e13ad58f7",
            "placeholder": "​",
            "style": "IPY_MODEL_39ac7775f609469f8d9ef3500fb8638d",
            "value": " 1.69k/1.69k [00:00&lt;00:00, 67.3kB/s]"
          }
        },
        "3954d1050d424a728a274e667b18eb76": {
          "model_module": "@jupyter-widgets/base",
          "model_name": "LayoutModel",
          "model_module_version": "1.2.0",
          "state": {
            "_model_module": "@jupyter-widgets/base",
            "_model_module_version": "1.2.0",
            "_model_name": "LayoutModel",
            "_view_count": null,
            "_view_module": "@jupyter-widgets/base",
            "_view_module_version": "1.2.0",
            "_view_name": "LayoutView",
            "align_content": null,
            "align_items": null,
            "align_self": null,
            "border": null,
            "bottom": null,
            "display": null,
            "flex": null,
            "flex_flow": null,
            "grid_area": null,
            "grid_auto_columns": null,
            "grid_auto_flow": null,
            "grid_auto_rows": null,
            "grid_column": null,
            "grid_gap": null,
            "grid_row": null,
            "grid_template_areas": null,
            "grid_template_columns": null,
            "grid_template_rows": null,
            "height": null,
            "justify_content": null,
            "justify_items": null,
            "left": null,
            "margin": null,
            "max_height": null,
            "max_width": null,
            "min_height": null,
            "min_width": null,
            "object_fit": null,
            "object_position": null,
            "order": null,
            "overflow": null,
            "overflow_x": null,
            "overflow_y": null,
            "padding": null,
            "right": null,
            "top": null,
            "visibility": null,
            "width": null
          }
        },
        "e6dd7f36524c4ea488012a1a2aadd9ff": {
          "model_module": "@jupyter-widgets/base",
          "model_name": "LayoutModel",
          "model_module_version": "1.2.0",
          "state": {
            "_model_module": "@jupyter-widgets/base",
            "_model_module_version": "1.2.0",
            "_model_name": "LayoutModel",
            "_view_count": null,
            "_view_module": "@jupyter-widgets/base",
            "_view_module_version": "1.2.0",
            "_view_name": "LayoutView",
            "align_content": null,
            "align_items": null,
            "align_self": null,
            "border": null,
            "bottom": null,
            "display": null,
            "flex": null,
            "flex_flow": null,
            "grid_area": null,
            "grid_auto_columns": null,
            "grid_auto_flow": null,
            "grid_auto_rows": null,
            "grid_column": null,
            "grid_gap": null,
            "grid_row": null,
            "grid_template_areas": null,
            "grid_template_columns": null,
            "grid_template_rows": null,
            "height": null,
            "justify_content": null,
            "justify_items": null,
            "left": null,
            "margin": null,
            "max_height": null,
            "max_width": null,
            "min_height": null,
            "min_width": null,
            "object_fit": null,
            "object_position": null,
            "order": null,
            "overflow": null,
            "overflow_x": null,
            "overflow_y": null,
            "padding": null,
            "right": null,
            "top": null,
            "visibility": null,
            "width": null
          }
        },
        "d3ab21c3de3640c0a04f969b64f4344e": {
          "model_module": "@jupyter-widgets/controls",
          "model_name": "DescriptionStyleModel",
          "model_module_version": "1.5.0",
          "state": {
            "_model_module": "@jupyter-widgets/controls",
            "_model_module_version": "1.5.0",
            "_model_name": "DescriptionStyleModel",
            "_view_count": null,
            "_view_module": "@jupyter-widgets/base",
            "_view_module_version": "1.2.0",
            "_view_name": "StyleView",
            "description_width": ""
          }
        },
        "faad5d98034b4644968cd356af712d8e": {
          "model_module": "@jupyter-widgets/base",
          "model_name": "LayoutModel",
          "model_module_version": "1.2.0",
          "state": {
            "_model_module": "@jupyter-widgets/base",
            "_model_module_version": "1.2.0",
            "_model_name": "LayoutModel",
            "_view_count": null,
            "_view_module": "@jupyter-widgets/base",
            "_view_module_version": "1.2.0",
            "_view_name": "LayoutView",
            "align_content": null,
            "align_items": null,
            "align_self": null,
            "border": null,
            "bottom": null,
            "display": null,
            "flex": null,
            "flex_flow": null,
            "grid_area": null,
            "grid_auto_columns": null,
            "grid_auto_flow": null,
            "grid_auto_rows": null,
            "grid_column": null,
            "grid_gap": null,
            "grid_row": null,
            "grid_template_areas": null,
            "grid_template_columns": null,
            "grid_template_rows": null,
            "height": null,
            "justify_content": null,
            "justify_items": null,
            "left": null,
            "margin": null,
            "max_height": null,
            "max_width": null,
            "min_height": null,
            "min_width": null,
            "object_fit": null,
            "object_position": null,
            "order": null,
            "overflow": null,
            "overflow_x": null,
            "overflow_y": null,
            "padding": null,
            "right": null,
            "top": null,
            "visibility": null,
            "width": null
          }
        },
        "74dd828b6c9e4df5883c772d8d375385": {
          "model_module": "@jupyter-widgets/controls",
          "model_name": "ProgressStyleModel",
          "model_module_version": "1.5.0",
          "state": {
            "_model_module": "@jupyter-widgets/controls",
            "_model_module_version": "1.5.0",
            "_model_name": "ProgressStyleModel",
            "_view_count": null,
            "_view_module": "@jupyter-widgets/base",
            "_view_module_version": "1.2.0",
            "_view_name": "StyleView",
            "bar_color": null,
            "description_width": ""
          }
        },
        "9ef7c62837f94d56be7f6f8e13ad58f7": {
          "model_module": "@jupyter-widgets/base",
          "model_name": "LayoutModel",
          "model_module_version": "1.2.0",
          "state": {
            "_model_module": "@jupyter-widgets/base",
            "_model_module_version": "1.2.0",
            "_model_name": "LayoutModel",
            "_view_count": null,
            "_view_module": "@jupyter-widgets/base",
            "_view_module_version": "1.2.0",
            "_view_name": "LayoutView",
            "align_content": null,
            "align_items": null,
            "align_self": null,
            "border": null,
            "bottom": null,
            "display": null,
            "flex": null,
            "flex_flow": null,
            "grid_area": null,
            "grid_auto_columns": null,
            "grid_auto_flow": null,
            "grid_auto_rows": null,
            "grid_column": null,
            "grid_gap": null,
            "grid_row": null,
            "grid_template_areas": null,
            "grid_template_columns": null,
            "grid_template_rows": null,
            "height": null,
            "justify_content": null,
            "justify_items": null,
            "left": null,
            "margin": null,
            "max_height": null,
            "max_width": null,
            "min_height": null,
            "min_width": null,
            "object_fit": null,
            "object_position": null,
            "order": null,
            "overflow": null,
            "overflow_x": null,
            "overflow_y": null,
            "padding": null,
            "right": null,
            "top": null,
            "visibility": null,
            "width": null
          }
        },
        "39ac7775f609469f8d9ef3500fb8638d": {
          "model_module": "@jupyter-widgets/controls",
          "model_name": "DescriptionStyleModel",
          "model_module_version": "1.5.0",
          "state": {
            "_model_module": "@jupyter-widgets/controls",
            "_model_module_version": "1.5.0",
            "_model_name": "DescriptionStyleModel",
            "_view_count": null,
            "_view_module": "@jupyter-widgets/base",
            "_view_module_version": "1.2.0",
            "_view_name": "StyleView",
            "description_width": ""
          }
        },
        "94d54376430f4ecd99ceff531eeff10d": {
          "model_module": "@jupyter-widgets/controls",
          "model_name": "HBoxModel",
          "model_module_version": "1.5.0",
          "state": {
            "_dom_classes": [],
            "_model_module": "@jupyter-widgets/controls",
            "_model_module_version": "1.5.0",
            "_model_name": "HBoxModel",
            "_view_count": null,
            "_view_module": "@jupyter-widgets/controls",
            "_view_module_version": "1.5.0",
            "_view_name": "HBoxView",
            "box_style": "",
            "children": [
              "IPY_MODEL_0196349e9a1942e79c15bcdc6b91d54c",
              "IPY_MODEL_ca1f98acb42c4419a623f66a9ecf3120",
              "IPY_MODEL_8ccfa25ffb4a4993a06f0d68eef8af63"
            ],
            "layout": "IPY_MODEL_e730291a2b3f4460b58368cedcb2c300"
          }
        },
        "0196349e9a1942e79c15bcdc6b91d54c": {
          "model_module": "@jupyter-widgets/controls",
          "model_name": "HTMLModel",
          "model_module_version": "1.5.0",
          "state": {
            "_dom_classes": [],
            "_model_module": "@jupyter-widgets/controls",
            "_model_module_version": "1.5.0",
            "_model_name": "HTMLModel",
            "_view_count": null,
            "_view_module": "@jupyter-widgets/controls",
            "_view_module_version": "1.5.0",
            "_view_name": "HTMLView",
            "description": "",
            "description_tooltip": null,
            "layout": "IPY_MODEL_03317b5f6a904ab3973b108dcadc934c",
            "placeholder": "​",
            "style": "IPY_MODEL_8936982ff48f4cb8b17bd435272c59ae",
            "value": "Downloading readme: 100%"
          }
        },
        "ca1f98acb42c4419a623f66a9ecf3120": {
          "model_module": "@jupyter-widgets/controls",
          "model_name": "FloatProgressModel",
          "model_module_version": "1.5.0",
          "state": {
            "_dom_classes": [],
            "_model_module": "@jupyter-widgets/controls",
            "_model_module_version": "1.5.0",
            "_model_name": "FloatProgressModel",
            "_view_count": null,
            "_view_module": "@jupyter-widgets/controls",
            "_view_module_version": "1.5.0",
            "_view_name": "ProgressView",
            "bar_style": "success",
            "description": "",
            "description_tooltip": null,
            "layout": "IPY_MODEL_c055f12258dc4a78894dc222a1858465",
            "max": 1158,
            "min": 0,
            "orientation": "horizontal",
            "style": "IPY_MODEL_f44508fedc4f4d95854c01614145d4ec",
            "value": 1158
          }
        },
        "8ccfa25ffb4a4993a06f0d68eef8af63": {
          "model_module": "@jupyter-widgets/controls",
          "model_name": "HTMLModel",
          "model_module_version": "1.5.0",
          "state": {
            "_dom_classes": [],
            "_model_module": "@jupyter-widgets/controls",
            "_model_module_version": "1.5.0",
            "_model_name": "HTMLModel",
            "_view_count": null,
            "_view_module": "@jupyter-widgets/controls",
            "_view_module_version": "1.5.0",
            "_view_name": "HTMLView",
            "description": "",
            "description_tooltip": null,
            "layout": "IPY_MODEL_4b9772a66452428daf95361b067c2c09",
            "placeholder": "​",
            "style": "IPY_MODEL_5535a2911ce8478eb669b006d5f10ab8",
            "value": " 1.16k/1.16k [00:00&lt;00:00, 55.9kB/s]"
          }
        },
        "e730291a2b3f4460b58368cedcb2c300": {
          "model_module": "@jupyter-widgets/base",
          "model_name": "LayoutModel",
          "model_module_version": "1.2.0",
          "state": {
            "_model_module": "@jupyter-widgets/base",
            "_model_module_version": "1.2.0",
            "_model_name": "LayoutModel",
            "_view_count": null,
            "_view_module": "@jupyter-widgets/base",
            "_view_module_version": "1.2.0",
            "_view_name": "LayoutView",
            "align_content": null,
            "align_items": null,
            "align_self": null,
            "border": null,
            "bottom": null,
            "display": null,
            "flex": null,
            "flex_flow": null,
            "grid_area": null,
            "grid_auto_columns": null,
            "grid_auto_flow": null,
            "grid_auto_rows": null,
            "grid_column": null,
            "grid_gap": null,
            "grid_row": null,
            "grid_template_areas": null,
            "grid_template_columns": null,
            "grid_template_rows": null,
            "height": null,
            "justify_content": null,
            "justify_items": null,
            "left": null,
            "margin": null,
            "max_height": null,
            "max_width": null,
            "min_height": null,
            "min_width": null,
            "object_fit": null,
            "object_position": null,
            "order": null,
            "overflow": null,
            "overflow_x": null,
            "overflow_y": null,
            "padding": null,
            "right": null,
            "top": null,
            "visibility": null,
            "width": null
          }
        },
        "03317b5f6a904ab3973b108dcadc934c": {
          "model_module": "@jupyter-widgets/base",
          "model_name": "LayoutModel",
          "model_module_version": "1.2.0",
          "state": {
            "_model_module": "@jupyter-widgets/base",
            "_model_module_version": "1.2.0",
            "_model_name": "LayoutModel",
            "_view_count": null,
            "_view_module": "@jupyter-widgets/base",
            "_view_module_version": "1.2.0",
            "_view_name": "LayoutView",
            "align_content": null,
            "align_items": null,
            "align_self": null,
            "border": null,
            "bottom": null,
            "display": null,
            "flex": null,
            "flex_flow": null,
            "grid_area": null,
            "grid_auto_columns": null,
            "grid_auto_flow": null,
            "grid_auto_rows": null,
            "grid_column": null,
            "grid_gap": null,
            "grid_row": null,
            "grid_template_areas": null,
            "grid_template_columns": null,
            "grid_template_rows": null,
            "height": null,
            "justify_content": null,
            "justify_items": null,
            "left": null,
            "margin": null,
            "max_height": null,
            "max_width": null,
            "min_height": null,
            "min_width": null,
            "object_fit": null,
            "object_position": null,
            "order": null,
            "overflow": null,
            "overflow_x": null,
            "overflow_y": null,
            "padding": null,
            "right": null,
            "top": null,
            "visibility": null,
            "width": null
          }
        },
        "8936982ff48f4cb8b17bd435272c59ae": {
          "model_module": "@jupyter-widgets/controls",
          "model_name": "DescriptionStyleModel",
          "model_module_version": "1.5.0",
          "state": {
            "_model_module": "@jupyter-widgets/controls",
            "_model_module_version": "1.5.0",
            "_model_name": "DescriptionStyleModel",
            "_view_count": null,
            "_view_module": "@jupyter-widgets/base",
            "_view_module_version": "1.2.0",
            "_view_name": "StyleView",
            "description_width": ""
          }
        },
        "c055f12258dc4a78894dc222a1858465": {
          "model_module": "@jupyter-widgets/base",
          "model_name": "LayoutModel",
          "model_module_version": "1.2.0",
          "state": {
            "_model_module": "@jupyter-widgets/base",
            "_model_module_version": "1.2.0",
            "_model_name": "LayoutModel",
            "_view_count": null,
            "_view_module": "@jupyter-widgets/base",
            "_view_module_version": "1.2.0",
            "_view_name": "LayoutView",
            "align_content": null,
            "align_items": null,
            "align_self": null,
            "border": null,
            "bottom": null,
            "display": null,
            "flex": null,
            "flex_flow": null,
            "grid_area": null,
            "grid_auto_columns": null,
            "grid_auto_flow": null,
            "grid_auto_rows": null,
            "grid_column": null,
            "grid_gap": null,
            "grid_row": null,
            "grid_template_areas": null,
            "grid_template_columns": null,
            "grid_template_rows": null,
            "height": null,
            "justify_content": null,
            "justify_items": null,
            "left": null,
            "margin": null,
            "max_height": null,
            "max_width": null,
            "min_height": null,
            "min_width": null,
            "object_fit": null,
            "object_position": null,
            "order": null,
            "overflow": null,
            "overflow_x": null,
            "overflow_y": null,
            "padding": null,
            "right": null,
            "top": null,
            "visibility": null,
            "width": null
          }
        },
        "f44508fedc4f4d95854c01614145d4ec": {
          "model_module": "@jupyter-widgets/controls",
          "model_name": "ProgressStyleModel",
          "model_module_version": "1.5.0",
          "state": {
            "_model_module": "@jupyter-widgets/controls",
            "_model_module_version": "1.5.0",
            "_model_name": "ProgressStyleModel",
            "_view_count": null,
            "_view_module": "@jupyter-widgets/base",
            "_view_module_version": "1.2.0",
            "_view_name": "StyleView",
            "bar_color": null,
            "description_width": ""
          }
        },
        "4b9772a66452428daf95361b067c2c09": {
          "model_module": "@jupyter-widgets/base",
          "model_name": "LayoutModel",
          "model_module_version": "1.2.0",
          "state": {
            "_model_module": "@jupyter-widgets/base",
            "_model_module_version": "1.2.0",
            "_model_name": "LayoutModel",
            "_view_count": null,
            "_view_module": "@jupyter-widgets/base",
            "_view_module_version": "1.2.0",
            "_view_name": "LayoutView",
            "align_content": null,
            "align_items": null,
            "align_self": null,
            "border": null,
            "bottom": null,
            "display": null,
            "flex": null,
            "flex_flow": null,
            "grid_area": null,
            "grid_auto_columns": null,
            "grid_auto_flow": null,
            "grid_auto_rows": null,
            "grid_column": null,
            "grid_gap": null,
            "grid_row": null,
            "grid_template_areas": null,
            "grid_template_columns": null,
            "grid_template_rows": null,
            "height": null,
            "justify_content": null,
            "justify_items": null,
            "left": null,
            "margin": null,
            "max_height": null,
            "max_width": null,
            "min_height": null,
            "min_width": null,
            "object_fit": null,
            "object_position": null,
            "order": null,
            "overflow": null,
            "overflow_x": null,
            "overflow_y": null,
            "padding": null,
            "right": null,
            "top": null,
            "visibility": null,
            "width": null
          }
        },
        "5535a2911ce8478eb669b006d5f10ab8": {
          "model_module": "@jupyter-widgets/controls",
          "model_name": "DescriptionStyleModel",
          "model_module_version": "1.5.0",
          "state": {
            "_model_module": "@jupyter-widgets/controls",
            "_model_module_version": "1.5.0",
            "_model_name": "DescriptionStyleModel",
            "_view_count": null,
            "_view_module": "@jupyter-widgets/base",
            "_view_module_version": "1.2.0",
            "_view_name": "StyleView",
            "description_width": ""
          }
        },
        "68614cd31b6248a8896e9c1fdeafe9fe": {
          "model_module": "@jupyter-widgets/controls",
          "model_name": "HBoxModel",
          "model_module_version": "1.5.0",
          "state": {
            "_dom_classes": [],
            "_model_module": "@jupyter-widgets/controls",
            "_model_module_version": "1.5.0",
            "_model_name": "HBoxModel",
            "_view_count": null,
            "_view_module": "@jupyter-widgets/controls",
            "_view_module_version": "1.5.0",
            "_view_name": "HBoxView",
            "box_style": "",
            "children": [
              "IPY_MODEL_777c06739e324bc7b9563eff860c670f",
              "IPY_MODEL_e49eb5cb7fa74eb3aa12c6e6bf828dac",
              "IPY_MODEL_3dce6d9146644b36a0678423618087e0"
            ],
            "layout": "IPY_MODEL_6da145a885a74ae4b42b3a4cc9ec3bbc"
          }
        },
        "777c06739e324bc7b9563eff860c670f": {
          "model_module": "@jupyter-widgets/controls",
          "model_name": "HTMLModel",
          "model_module_version": "1.5.0",
          "state": {
            "_dom_classes": [],
            "_model_module": "@jupyter-widgets/controls",
            "_model_module_version": "1.5.0",
            "_model_name": "HTMLModel",
            "_view_count": null,
            "_view_module": "@jupyter-widgets/controls",
            "_view_module_version": "1.5.0",
            "_view_name": "HTMLView",
            "description": "",
            "description_tooltip": null,
            "layout": "IPY_MODEL_fc2f0ea9a5e94373adbd5975f71b65f8",
            "placeholder": "​",
            "style": "IPY_MODEL_02a23b2b5530423591b99fc71f337a7c",
            "value": "Generating docs split: "
          }
        },
        "e49eb5cb7fa74eb3aa12c6e6bf828dac": {
          "model_module": "@jupyter-widgets/controls",
          "model_name": "FloatProgressModel",
          "model_module_version": "1.5.0",
          "state": {
            "_dom_classes": [],
            "_model_module": "@jupyter-widgets/controls",
            "_model_module_version": "1.5.0",
            "_model_name": "FloatProgressModel",
            "_view_count": null,
            "_view_module": "@jupyter-widgets/controls",
            "_view_module_version": "1.5.0",
            "_view_name": "ProgressView",
            "bar_style": "info",
            "description": "",
            "description_tooltip": null,
            "layout": "IPY_MODEL_545d7d2cd20e4badb32a2edb094c84bc",
            "max": 1,
            "min": 0,
            "orientation": "horizontal",
            "style": "IPY_MODEL_529f25eb36864860b4cdf5368affe09e",
            "value": 1
          }
        },
        "3dce6d9146644b36a0678423618087e0": {
          "model_module": "@jupyter-widgets/controls",
          "model_name": "HTMLModel",
          "model_module_version": "1.5.0",
          "state": {
            "_dom_classes": [],
            "_model_module": "@jupyter-widgets/controls",
            "_model_module_version": "1.5.0",
            "_model_name": "HTMLModel",
            "_view_count": null,
            "_view_module": "@jupyter-widgets/controls",
            "_view_module_version": "1.5.0",
            "_view_name": "HTMLView",
            "description": "",
            "description_tooltip": null,
            "layout": "IPY_MODEL_fe57f4bcce5542388093f9e9dab55988",
            "placeholder": "​",
            "style": "IPY_MODEL_5f3b8d1f154d4eddae0cba3f562a9543",
            "value": " 1000/0 [00:01&lt;00:00, 1164.87 examples/s]"
          }
        },
        "6da145a885a74ae4b42b3a4cc9ec3bbc": {
          "model_module": "@jupyter-widgets/base",
          "model_name": "LayoutModel",
          "model_module_version": "1.2.0",
          "state": {
            "_model_module": "@jupyter-widgets/base",
            "_model_module_version": "1.2.0",
            "_model_name": "LayoutModel",
            "_view_count": null,
            "_view_module": "@jupyter-widgets/base",
            "_view_module_version": "1.2.0",
            "_view_name": "LayoutView",
            "align_content": null,
            "align_items": null,
            "align_self": null,
            "border": null,
            "bottom": null,
            "display": null,
            "flex": null,
            "flex_flow": null,
            "grid_area": null,
            "grid_auto_columns": null,
            "grid_auto_flow": null,
            "grid_auto_rows": null,
            "grid_column": null,
            "grid_gap": null,
            "grid_row": null,
            "grid_template_areas": null,
            "grid_template_columns": null,
            "grid_template_rows": null,
            "height": null,
            "justify_content": null,
            "justify_items": null,
            "left": null,
            "margin": null,
            "max_height": null,
            "max_width": null,
            "min_height": null,
            "min_width": null,
            "object_fit": null,
            "object_position": null,
            "order": null,
            "overflow": null,
            "overflow_x": null,
            "overflow_y": null,
            "padding": null,
            "right": null,
            "top": null,
            "visibility": "hidden",
            "width": null
          }
        },
        "fc2f0ea9a5e94373adbd5975f71b65f8": {
          "model_module": "@jupyter-widgets/base",
          "model_name": "LayoutModel",
          "model_module_version": "1.2.0",
          "state": {
            "_model_module": "@jupyter-widgets/base",
            "_model_module_version": "1.2.0",
            "_model_name": "LayoutModel",
            "_view_count": null,
            "_view_module": "@jupyter-widgets/base",
            "_view_module_version": "1.2.0",
            "_view_name": "LayoutView",
            "align_content": null,
            "align_items": null,
            "align_self": null,
            "border": null,
            "bottom": null,
            "display": null,
            "flex": null,
            "flex_flow": null,
            "grid_area": null,
            "grid_auto_columns": null,
            "grid_auto_flow": null,
            "grid_auto_rows": null,
            "grid_column": null,
            "grid_gap": null,
            "grid_row": null,
            "grid_template_areas": null,
            "grid_template_columns": null,
            "grid_template_rows": null,
            "height": null,
            "justify_content": null,
            "justify_items": null,
            "left": null,
            "margin": null,
            "max_height": null,
            "max_width": null,
            "min_height": null,
            "min_width": null,
            "object_fit": null,
            "object_position": null,
            "order": null,
            "overflow": null,
            "overflow_x": null,
            "overflow_y": null,
            "padding": null,
            "right": null,
            "top": null,
            "visibility": null,
            "width": null
          }
        },
        "02a23b2b5530423591b99fc71f337a7c": {
          "model_module": "@jupyter-widgets/controls",
          "model_name": "DescriptionStyleModel",
          "model_module_version": "1.5.0",
          "state": {
            "_model_module": "@jupyter-widgets/controls",
            "_model_module_version": "1.5.0",
            "_model_name": "DescriptionStyleModel",
            "_view_count": null,
            "_view_module": "@jupyter-widgets/base",
            "_view_module_version": "1.2.0",
            "_view_name": "StyleView",
            "description_width": ""
          }
        },
        "545d7d2cd20e4badb32a2edb094c84bc": {
          "model_module": "@jupyter-widgets/base",
          "model_name": "LayoutModel",
          "model_module_version": "1.2.0",
          "state": {
            "_model_module": "@jupyter-widgets/base",
            "_model_module_version": "1.2.0",
            "_model_name": "LayoutModel",
            "_view_count": null,
            "_view_module": "@jupyter-widgets/base",
            "_view_module_version": "1.2.0",
            "_view_name": "LayoutView",
            "align_content": null,
            "align_items": null,
            "align_self": null,
            "border": null,
            "bottom": null,
            "display": null,
            "flex": null,
            "flex_flow": null,
            "grid_area": null,
            "grid_auto_columns": null,
            "grid_auto_flow": null,
            "grid_auto_rows": null,
            "grid_column": null,
            "grid_gap": null,
            "grid_row": null,
            "grid_template_areas": null,
            "grid_template_columns": null,
            "grid_template_rows": null,
            "height": null,
            "justify_content": null,
            "justify_items": null,
            "left": null,
            "margin": null,
            "max_height": null,
            "max_width": null,
            "min_height": null,
            "min_width": null,
            "object_fit": null,
            "object_position": null,
            "order": null,
            "overflow": null,
            "overflow_x": null,
            "overflow_y": null,
            "padding": null,
            "right": null,
            "top": null,
            "visibility": null,
            "width": "20px"
          }
        },
        "529f25eb36864860b4cdf5368affe09e": {
          "model_module": "@jupyter-widgets/controls",
          "model_name": "ProgressStyleModel",
          "model_module_version": "1.5.0",
          "state": {
            "_model_module": "@jupyter-widgets/controls",
            "_model_module_version": "1.5.0",
            "_model_name": "ProgressStyleModel",
            "_view_count": null,
            "_view_module": "@jupyter-widgets/base",
            "_view_module_version": "1.2.0",
            "_view_name": "StyleView",
            "bar_color": null,
            "description_width": ""
          }
        },
        "fe57f4bcce5542388093f9e9dab55988": {
          "model_module": "@jupyter-widgets/base",
          "model_name": "LayoutModel",
          "model_module_version": "1.2.0",
          "state": {
            "_model_module": "@jupyter-widgets/base",
            "_model_module_version": "1.2.0",
            "_model_name": "LayoutModel",
            "_view_count": null,
            "_view_module": "@jupyter-widgets/base",
            "_view_module_version": "1.2.0",
            "_view_name": "LayoutView",
            "align_content": null,
            "align_items": null,
            "align_self": null,
            "border": null,
            "bottom": null,
            "display": null,
            "flex": null,
            "flex_flow": null,
            "grid_area": null,
            "grid_auto_columns": null,
            "grid_auto_flow": null,
            "grid_auto_rows": null,
            "grid_column": null,
            "grid_gap": null,
            "grid_row": null,
            "grid_template_areas": null,
            "grid_template_columns": null,
            "grid_template_rows": null,
            "height": null,
            "justify_content": null,
            "justify_items": null,
            "left": null,
            "margin": null,
            "max_height": null,
            "max_width": null,
            "min_height": null,
            "min_width": null,
            "object_fit": null,
            "object_position": null,
            "order": null,
            "overflow": null,
            "overflow_x": null,
            "overflow_y": null,
            "padding": null,
            "right": null,
            "top": null,
            "visibility": null,
            "width": null
          }
        },
        "5f3b8d1f154d4eddae0cba3f562a9543": {
          "model_module": "@jupyter-widgets/controls",
          "model_name": "DescriptionStyleModel",
          "model_module_version": "1.5.0",
          "state": {
            "_model_module": "@jupyter-widgets/controls",
            "_model_module_version": "1.5.0",
            "_model_name": "DescriptionStyleModel",
            "_view_count": null,
            "_view_module": "@jupyter-widgets/base",
            "_view_module_version": "1.2.0",
            "_view_name": "StyleView",
            "description_width": ""
          }
        },
        "45265653d8bc486dad2d1169f507938e": {
          "model_module": "@jupyter-widgets/controls",
          "model_name": "HBoxModel",
          "model_module_version": "1.5.0",
          "state": {
            "_dom_classes": [],
            "_model_module": "@jupyter-widgets/controls",
            "_model_module_version": "1.5.0",
            "_model_name": "HBoxModel",
            "_view_count": null,
            "_view_module": "@jupyter-widgets/controls",
            "_view_module_version": "1.5.0",
            "_view_name": "HBoxView",
            "box_style": "",
            "children": [
              "IPY_MODEL_6dcd61b6cb294d9f8c860e16decac234",
              "IPY_MODEL_1491f83f17504ba4877a23f5361f6e20",
              "IPY_MODEL_5f7ceebf276f44259f3caae0a5e7d29a"
            ],
            "layout": "IPY_MODEL_6975e41e659a4efd9ae931f615bcdbf2"
          }
        },
        "6dcd61b6cb294d9f8c860e16decac234": {
          "model_module": "@jupyter-widgets/controls",
          "model_name": "HTMLModel",
          "model_module_version": "1.5.0",
          "state": {
            "_dom_classes": [],
            "_model_module": "@jupyter-widgets/controls",
            "_model_module_version": "1.5.0",
            "_model_name": "HTMLModel",
            "_view_count": null,
            "_view_module": "@jupyter-widgets/controls",
            "_view_module_version": "1.5.0",
            "_view_name": "HTMLView",
            "description": "",
            "description_tooltip": null,
            "layout": "IPY_MODEL_f6f702fa903940749e53214f71eacbfb",
            "placeholder": "​",
            "style": "IPY_MODEL_126662e863af4e6288f6162906a13462",
            "value": "Generating queries split: "
          }
        },
        "1491f83f17504ba4877a23f5361f6e20": {
          "model_module": "@jupyter-widgets/controls",
          "model_name": "FloatProgressModel",
          "model_module_version": "1.5.0",
          "state": {
            "_dom_classes": [],
            "_model_module": "@jupyter-widgets/controls",
            "_model_module_version": "1.5.0",
            "_model_name": "FloatProgressModel",
            "_view_count": null,
            "_view_module": "@jupyter-widgets/controls",
            "_view_module_version": "1.5.0",
            "_view_name": "ProgressView",
            "bar_style": "info",
            "description": "",
            "description_tooltip": null,
            "layout": "IPY_MODEL_4065d3c698004d2fbcee6cdef58f6050",
            "max": 1,
            "min": 0,
            "orientation": "horizontal",
            "style": "IPY_MODEL_281072810d444e1cb3b3c52e4c11f3de",
            "value": 1
          }
        },
        "5f7ceebf276f44259f3caae0a5e7d29a": {
          "model_module": "@jupyter-widgets/controls",
          "model_name": "HTMLModel",
          "model_module_version": "1.5.0",
          "state": {
            "_dom_classes": [],
            "_model_module": "@jupyter-widgets/controls",
            "_model_module_version": "1.5.0",
            "_model_name": "HTMLModel",
            "_view_count": null,
            "_view_module": "@jupyter-widgets/controls",
            "_view_module_version": "1.5.0",
            "_view_name": "HTMLView",
            "description": "",
            "description_tooltip": null,
            "layout": "IPY_MODEL_4a2a76c31a6541bda29534609356885d",
            "placeholder": "​",
            "style": "IPY_MODEL_da1f27c90e174ac6a4339930e5c4e59b",
            "value": " 0/0 [00:00&lt;?, ? examples/s]"
          }
        },
        "6975e41e659a4efd9ae931f615bcdbf2": {
          "model_module": "@jupyter-widgets/base",
          "model_name": "LayoutModel",
          "model_module_version": "1.2.0",
          "state": {
            "_model_module": "@jupyter-widgets/base",
            "_model_module_version": "1.2.0",
            "_model_name": "LayoutModel",
            "_view_count": null,
            "_view_module": "@jupyter-widgets/base",
            "_view_module_version": "1.2.0",
            "_view_name": "LayoutView",
            "align_content": null,
            "align_items": null,
            "align_self": null,
            "border": null,
            "bottom": null,
            "display": null,
            "flex": null,
            "flex_flow": null,
            "grid_area": null,
            "grid_auto_columns": null,
            "grid_auto_flow": null,
            "grid_auto_rows": null,
            "grid_column": null,
            "grid_gap": null,
            "grid_row": null,
            "grid_template_areas": null,
            "grid_template_columns": null,
            "grid_template_rows": null,
            "height": null,
            "justify_content": null,
            "justify_items": null,
            "left": null,
            "margin": null,
            "max_height": null,
            "max_width": null,
            "min_height": null,
            "min_width": null,
            "object_fit": null,
            "object_position": null,
            "order": null,
            "overflow": null,
            "overflow_x": null,
            "overflow_y": null,
            "padding": null,
            "right": null,
            "top": null,
            "visibility": "hidden",
            "width": null
          }
        },
        "f6f702fa903940749e53214f71eacbfb": {
          "model_module": "@jupyter-widgets/base",
          "model_name": "LayoutModel",
          "model_module_version": "1.2.0",
          "state": {
            "_model_module": "@jupyter-widgets/base",
            "_model_module_version": "1.2.0",
            "_model_name": "LayoutModel",
            "_view_count": null,
            "_view_module": "@jupyter-widgets/base",
            "_view_module_version": "1.2.0",
            "_view_name": "LayoutView",
            "align_content": null,
            "align_items": null,
            "align_self": null,
            "border": null,
            "bottom": null,
            "display": null,
            "flex": null,
            "flex_flow": null,
            "grid_area": null,
            "grid_auto_columns": null,
            "grid_auto_flow": null,
            "grid_auto_rows": null,
            "grid_column": null,
            "grid_gap": null,
            "grid_row": null,
            "grid_template_areas": null,
            "grid_template_columns": null,
            "grid_template_rows": null,
            "height": null,
            "justify_content": null,
            "justify_items": null,
            "left": null,
            "margin": null,
            "max_height": null,
            "max_width": null,
            "min_height": null,
            "min_width": null,
            "object_fit": null,
            "object_position": null,
            "order": null,
            "overflow": null,
            "overflow_x": null,
            "overflow_y": null,
            "padding": null,
            "right": null,
            "top": null,
            "visibility": null,
            "width": null
          }
        },
        "126662e863af4e6288f6162906a13462": {
          "model_module": "@jupyter-widgets/controls",
          "model_name": "DescriptionStyleModel",
          "model_module_version": "1.5.0",
          "state": {
            "_model_module": "@jupyter-widgets/controls",
            "_model_module_version": "1.5.0",
            "_model_name": "DescriptionStyleModel",
            "_view_count": null,
            "_view_module": "@jupyter-widgets/base",
            "_view_module_version": "1.2.0",
            "_view_name": "StyleView",
            "description_width": ""
          }
        },
        "4065d3c698004d2fbcee6cdef58f6050": {
          "model_module": "@jupyter-widgets/base",
          "model_name": "LayoutModel",
          "model_module_version": "1.2.0",
          "state": {
            "_model_module": "@jupyter-widgets/base",
            "_model_module_version": "1.2.0",
            "_model_name": "LayoutModel",
            "_view_count": null,
            "_view_module": "@jupyter-widgets/base",
            "_view_module_version": "1.2.0",
            "_view_name": "LayoutView",
            "align_content": null,
            "align_items": null,
            "align_self": null,
            "border": null,
            "bottom": null,
            "display": null,
            "flex": null,
            "flex_flow": null,
            "grid_area": null,
            "grid_auto_columns": null,
            "grid_auto_flow": null,
            "grid_auto_rows": null,
            "grid_column": null,
            "grid_gap": null,
            "grid_row": null,
            "grid_template_areas": null,
            "grid_template_columns": null,
            "grid_template_rows": null,
            "height": null,
            "justify_content": null,
            "justify_items": null,
            "left": null,
            "margin": null,
            "max_height": null,
            "max_width": null,
            "min_height": null,
            "min_width": null,
            "object_fit": null,
            "object_position": null,
            "order": null,
            "overflow": null,
            "overflow_x": null,
            "overflow_y": null,
            "padding": null,
            "right": null,
            "top": null,
            "visibility": null,
            "width": "20px"
          }
        },
        "281072810d444e1cb3b3c52e4c11f3de": {
          "model_module": "@jupyter-widgets/controls",
          "model_name": "ProgressStyleModel",
          "model_module_version": "1.5.0",
          "state": {
            "_model_module": "@jupyter-widgets/controls",
            "_model_module_version": "1.5.0",
            "_model_name": "ProgressStyleModel",
            "_view_count": null,
            "_view_module": "@jupyter-widgets/base",
            "_view_module_version": "1.2.0",
            "_view_name": "StyleView",
            "bar_color": null,
            "description_width": ""
          }
        },
        "4a2a76c31a6541bda29534609356885d": {
          "model_module": "@jupyter-widgets/base",
          "model_name": "LayoutModel",
          "model_module_version": "1.2.0",
          "state": {
            "_model_module": "@jupyter-widgets/base",
            "_model_module_version": "1.2.0",
            "_model_name": "LayoutModel",
            "_view_count": null,
            "_view_module": "@jupyter-widgets/base",
            "_view_module_version": "1.2.0",
            "_view_name": "LayoutView",
            "align_content": null,
            "align_items": null,
            "align_self": null,
            "border": null,
            "bottom": null,
            "display": null,
            "flex": null,
            "flex_flow": null,
            "grid_area": null,
            "grid_auto_columns": null,
            "grid_auto_flow": null,
            "grid_auto_rows": null,
            "grid_column": null,
            "grid_gap": null,
            "grid_row": null,
            "grid_template_areas": null,
            "grid_template_columns": null,
            "grid_template_rows": null,
            "height": null,
            "justify_content": null,
            "justify_items": null,
            "left": null,
            "margin": null,
            "max_height": null,
            "max_width": null,
            "min_height": null,
            "min_width": null,
            "object_fit": null,
            "object_position": null,
            "order": null,
            "overflow": null,
            "overflow_x": null,
            "overflow_y": null,
            "padding": null,
            "right": null,
            "top": null,
            "visibility": null,
            "width": null
          }
        },
        "da1f27c90e174ac6a4339930e5c4e59b": {
          "model_module": "@jupyter-widgets/controls",
          "model_name": "DescriptionStyleModel",
          "model_module_version": "1.5.0",
          "state": {
            "_model_module": "@jupyter-widgets/controls",
            "_model_module_version": "1.5.0",
            "_model_name": "DescriptionStyleModel",
            "_view_count": null,
            "_view_module": "@jupyter-widgets/base",
            "_view_module_version": "1.2.0",
            "_view_name": "StyleView",
            "description_width": ""
          }
        },
        "a5f45fcd44ca4084a4234d91ea7473fc": {
          "model_module": "@jupyter-widgets/controls",
          "model_name": "HBoxModel",
          "model_module_version": "1.5.0",
          "state": {
            "_dom_classes": [],
            "_model_module": "@jupyter-widgets/controls",
            "_model_module_version": "1.5.0",
            "_model_name": "HBoxModel",
            "_view_count": null,
            "_view_module": "@jupyter-widgets/controls",
            "_view_module_version": "1.5.0",
            "_view_name": "HBoxView",
            "box_style": "",
            "children": [
              "IPY_MODEL_ec6a63183b0c46ae9841fc9e2ba1dd98",
              "IPY_MODEL_ddac05215b21461a9dffdea190ce27a0",
              "IPY_MODEL_2636230cc2c8405f94b56fb75e45e853"
            ],
            "layout": "IPY_MODEL_42c4e2a1433e416ea7639114fa697ef7"
          }
        },
        "ec6a63183b0c46ae9841fc9e2ba1dd98": {
          "model_module": "@jupyter-widgets/controls",
          "model_name": "HTMLModel",
          "model_module_version": "1.5.0",
          "state": {
            "_dom_classes": [],
            "_model_module": "@jupyter-widgets/controls",
            "_model_module_version": "1.5.0",
            "_model_name": "HTMLModel",
            "_view_count": null,
            "_view_module": "@jupyter-widgets/controls",
            "_view_module_version": "1.5.0",
            "_view_name": "HTMLView",
            "description": "",
            "description_tooltip": null,
            "layout": "IPY_MODEL_8a820439d14448b3a05992bf440b377e",
            "placeholder": "​",
            "style": "IPY_MODEL_419d7c16708d48308e47098fc904daa9",
            "value": "Generating qrels split: "
          }
        },
        "ddac05215b21461a9dffdea190ce27a0": {
          "model_module": "@jupyter-widgets/controls",
          "model_name": "FloatProgressModel",
          "model_module_version": "1.5.0",
          "state": {
            "_dom_classes": [],
            "_model_module": "@jupyter-widgets/controls",
            "_model_module_version": "1.5.0",
            "_model_name": "FloatProgressModel",
            "_view_count": null,
            "_view_module": "@jupyter-widgets/controls",
            "_view_module_version": "1.5.0",
            "_view_name": "ProgressView",
            "bar_style": "info",
            "description": "",
            "description_tooltip": null,
            "layout": "IPY_MODEL_24128df36041415384b963e73b955498",
            "max": 1,
            "min": 0,
            "orientation": "horizontal",
            "style": "IPY_MODEL_75410545b0094177bea4e7cc1d5d6777",
            "value": 1
          }
        },
        "2636230cc2c8405f94b56fb75e45e853": {
          "model_module": "@jupyter-widgets/controls",
          "model_name": "HTMLModel",
          "model_module_version": "1.5.0",
          "state": {
            "_dom_classes": [],
            "_model_module": "@jupyter-widgets/controls",
            "_model_module_version": "1.5.0",
            "_model_name": "HTMLModel",
            "_view_count": null,
            "_view_module": "@jupyter-widgets/controls",
            "_view_module_version": "1.5.0",
            "_view_name": "HTMLView",
            "description": "",
            "description_tooltip": null,
            "layout": "IPY_MODEL_ee52b35aa9c743149e99bdae51d8e72e",
            "placeholder": "​",
            "style": "IPY_MODEL_cf129521f3ba4d5baa7e31d6c5903563",
            "value": " 1370/0 [00:00&lt;00:00, 10569.72 examples/s]"
          }
        },
        "42c4e2a1433e416ea7639114fa697ef7": {
          "model_module": "@jupyter-widgets/base",
          "model_name": "LayoutModel",
          "model_module_version": "1.2.0",
          "state": {
            "_model_module": "@jupyter-widgets/base",
            "_model_module_version": "1.2.0",
            "_model_name": "LayoutModel",
            "_view_count": null,
            "_view_module": "@jupyter-widgets/base",
            "_view_module_version": "1.2.0",
            "_view_name": "LayoutView",
            "align_content": null,
            "align_items": null,
            "align_self": null,
            "border": null,
            "bottom": null,
            "display": null,
            "flex": null,
            "flex_flow": null,
            "grid_area": null,
            "grid_auto_columns": null,
            "grid_auto_flow": null,
            "grid_auto_rows": null,
            "grid_column": null,
            "grid_gap": null,
            "grid_row": null,
            "grid_template_areas": null,
            "grid_template_columns": null,
            "grid_template_rows": null,
            "height": null,
            "justify_content": null,
            "justify_items": null,
            "left": null,
            "margin": null,
            "max_height": null,
            "max_width": null,
            "min_height": null,
            "min_width": null,
            "object_fit": null,
            "object_position": null,
            "order": null,
            "overflow": null,
            "overflow_x": null,
            "overflow_y": null,
            "padding": null,
            "right": null,
            "top": null,
            "visibility": "hidden",
            "width": null
          }
        },
        "8a820439d14448b3a05992bf440b377e": {
          "model_module": "@jupyter-widgets/base",
          "model_name": "LayoutModel",
          "model_module_version": "1.2.0",
          "state": {
            "_model_module": "@jupyter-widgets/base",
            "_model_module_version": "1.2.0",
            "_model_name": "LayoutModel",
            "_view_count": null,
            "_view_module": "@jupyter-widgets/base",
            "_view_module_version": "1.2.0",
            "_view_name": "LayoutView",
            "align_content": null,
            "align_items": null,
            "align_self": null,
            "border": null,
            "bottom": null,
            "display": null,
            "flex": null,
            "flex_flow": null,
            "grid_area": null,
            "grid_auto_columns": null,
            "grid_auto_flow": null,
            "grid_auto_rows": null,
            "grid_column": null,
            "grid_gap": null,
            "grid_row": null,
            "grid_template_areas": null,
            "grid_template_columns": null,
            "grid_template_rows": null,
            "height": null,
            "justify_content": null,
            "justify_items": null,
            "left": null,
            "margin": null,
            "max_height": null,
            "max_width": null,
            "min_height": null,
            "min_width": null,
            "object_fit": null,
            "object_position": null,
            "order": null,
            "overflow": null,
            "overflow_x": null,
            "overflow_y": null,
            "padding": null,
            "right": null,
            "top": null,
            "visibility": null,
            "width": null
          }
        },
        "419d7c16708d48308e47098fc904daa9": {
          "model_module": "@jupyter-widgets/controls",
          "model_name": "DescriptionStyleModel",
          "model_module_version": "1.5.0",
          "state": {
            "_model_module": "@jupyter-widgets/controls",
            "_model_module_version": "1.5.0",
            "_model_name": "DescriptionStyleModel",
            "_view_count": null,
            "_view_module": "@jupyter-widgets/base",
            "_view_module_version": "1.2.0",
            "_view_name": "StyleView",
            "description_width": ""
          }
        },
        "24128df36041415384b963e73b955498": {
          "model_module": "@jupyter-widgets/base",
          "model_name": "LayoutModel",
          "model_module_version": "1.2.0",
          "state": {
            "_model_module": "@jupyter-widgets/base",
            "_model_module_version": "1.2.0",
            "_model_name": "LayoutModel",
            "_view_count": null,
            "_view_module": "@jupyter-widgets/base",
            "_view_module_version": "1.2.0",
            "_view_name": "LayoutView",
            "align_content": null,
            "align_items": null,
            "align_self": null,
            "border": null,
            "bottom": null,
            "display": null,
            "flex": null,
            "flex_flow": null,
            "grid_area": null,
            "grid_auto_columns": null,
            "grid_auto_flow": null,
            "grid_auto_rows": null,
            "grid_column": null,
            "grid_gap": null,
            "grid_row": null,
            "grid_template_areas": null,
            "grid_template_columns": null,
            "grid_template_rows": null,
            "height": null,
            "justify_content": null,
            "justify_items": null,
            "left": null,
            "margin": null,
            "max_height": null,
            "max_width": null,
            "min_height": null,
            "min_width": null,
            "object_fit": null,
            "object_position": null,
            "order": null,
            "overflow": null,
            "overflow_x": null,
            "overflow_y": null,
            "padding": null,
            "right": null,
            "top": null,
            "visibility": null,
            "width": "20px"
          }
        },
        "75410545b0094177bea4e7cc1d5d6777": {
          "model_module": "@jupyter-widgets/controls",
          "model_name": "ProgressStyleModel",
          "model_module_version": "1.5.0",
          "state": {
            "_model_module": "@jupyter-widgets/controls",
            "_model_module_version": "1.5.0",
            "_model_name": "ProgressStyleModel",
            "_view_count": null,
            "_view_module": "@jupyter-widgets/base",
            "_view_module_version": "1.2.0",
            "_view_name": "StyleView",
            "bar_color": null,
            "description_width": ""
          }
        },
        "ee52b35aa9c743149e99bdae51d8e72e": {
          "model_module": "@jupyter-widgets/base",
          "model_name": "LayoutModel",
          "model_module_version": "1.2.0",
          "state": {
            "_model_module": "@jupyter-widgets/base",
            "_model_module_version": "1.2.0",
            "_model_name": "LayoutModel",
            "_view_count": null,
            "_view_module": "@jupyter-widgets/base",
            "_view_module_version": "1.2.0",
            "_view_name": "LayoutView",
            "align_content": null,
            "align_items": null,
            "align_self": null,
            "border": null,
            "bottom": null,
            "display": null,
            "flex": null,
            "flex_flow": null,
            "grid_area": null,
            "grid_auto_columns": null,
            "grid_auto_flow": null,
            "grid_auto_rows": null,
            "grid_column": null,
            "grid_gap": null,
            "grid_row": null,
            "grid_template_areas": null,
            "grid_template_columns": null,
            "grid_template_rows": null,
            "height": null,
            "justify_content": null,
            "justify_items": null,
            "left": null,
            "margin": null,
            "max_height": null,
            "max_width": null,
            "min_height": null,
            "min_width": null,
            "object_fit": null,
            "object_position": null,
            "order": null,
            "overflow": null,
            "overflow_x": null,
            "overflow_y": null,
            "padding": null,
            "right": null,
            "top": null,
            "visibility": null,
            "width": null
          }
        },
        "cf129521f3ba4d5baa7e31d6c5903563": {
          "model_module": "@jupyter-widgets/controls",
          "model_name": "DescriptionStyleModel",
          "model_module_version": "1.5.0",
          "state": {
            "_model_module": "@jupyter-widgets/controls",
            "_model_module_version": "1.5.0",
            "_model_name": "DescriptionStyleModel",
            "_view_count": null,
            "_view_module": "@jupyter-widgets/base",
            "_view_module_version": "1.2.0",
            "_view_name": "StyleView",
            "description_width": ""
          }
        }
      }
    }
  },
  "cells": [
    {
      "cell_type": "markdown",
      "source": [
        "# **Import Python Package**"
      ],
      "metadata": {
        "id": "0RM6AtwtM6cC"
      }
    },
    {
      "cell_type": "code",
      "source": [
        "!pip install ir_datasets\n",
        "!pip install datasets"
      ],
      "metadata": {
        "colab": {
          "base_uri": "https://localhost:8080/"
        },
        "id": "iF0u7p6eZc8P",
        "outputId": "75523f99-a210-4347-92e7-568edfaaaf4e"
      },
      "execution_count": 1,
      "outputs": [
        {
          "output_type": "stream",
          "name": "stdout",
          "text": [
            "Looking in indexes: https://pypi.org/simple, https://us-python.pkg.dev/colab-wheels/public/simple/\n",
            "Collecting ir_datasets\n",
            "  Downloading ir_datasets-0.5.4-py3-none-any.whl (311 kB)\n",
            "\u001b[?25l     \u001b[90m━━━━━━━━━━━━━━━━━━━━━━━━━━━━━━━━━━━━━━━━\u001b[0m \u001b[32m0.0/311.5 kB\u001b[0m \u001b[31m?\u001b[0m eta \u001b[36m-:--:--\u001b[0m\r\u001b[2K     \u001b[91m━━━━━━━━━━━━━━━━━━━━━━━━━━━━━━━━━━━━━━\u001b[0m\u001b[90m╺\u001b[0m \u001b[32m307.2/311.5 kB\u001b[0m \u001b[31m9.5 MB/s\u001b[0m eta \u001b[36m0:00:01\u001b[0m\r\u001b[2K     \u001b[90m━━━━━━━━━━━━━━━━━━━━━━━━━━━━━━━━━━━━━━━\u001b[0m \u001b[32m311.5/311.5 kB\u001b[0m \u001b[31m7.0 MB/s\u001b[0m eta \u001b[36m0:00:00\u001b[0m\n",
            "\u001b[?25hRequirement already satisfied: requests>=2.22.0 in /usr/local/lib/python3.10/dist-packages (from ir_datasets) (2.27.1)\n",
            "Requirement already satisfied: tqdm>=4.38.0 in /usr/local/lib/python3.10/dist-packages (from ir_datasets) (4.65.0)\n",
            "Collecting zlib-state>=0.1.3\n",
            "  Downloading zlib-state-0.1.5.tar.gz (9.4 kB)\n",
            "  Preparing metadata (setup.py) ... \u001b[?25l\u001b[?25hdone\n",
            "Requirement already satisfied: beautifulsoup4>=4.4.1 in /usr/local/lib/python3.10/dist-packages (from ir_datasets) (4.11.2)\n",
            "Collecting unlzw3>=0.2.1\n",
            "  Downloading unlzw3-0.2.2-py3-none-any.whl (6.1 kB)\n",
            "Collecting lz4>=3.1.1\n",
            "  Downloading lz4-4.3.2-cp310-cp310-manylinux_2_17_x86_64.manylinux2014_x86_64.whl (1.3 MB)\n",
            "\u001b[2K     \u001b[90m━━━━━━━━━━━━━━━━━━━━━━━━━━━━━━━━━━━━━━━━\u001b[0m \u001b[32m1.3/1.3 MB\u001b[0m \u001b[31m40.8 MB/s\u001b[0m eta \u001b[36m0:00:00\u001b[0m\n",
            "\u001b[?25hCollecting warc3-wet>=0.2.3\n",
            "  Downloading warc3_wet-0.2.3-py3-none-any.whl (13 kB)\n",
            "Collecting warc3-wet-clueweb09>=0.2.5\n",
            "  Downloading warc3-wet-clueweb09-0.2.5.tar.gz (17 kB)\n",
            "  Preparing metadata (setup.py) ... \u001b[?25l\u001b[?25hdone\n",
            "Requirement already satisfied: pyyaml>=5.3.1 in /usr/local/lib/python3.10/dist-packages (from ir_datasets) (6.0)\n",
            "Collecting ijson>=3.1.3\n",
            "  Downloading ijson-3.2.0.post0-cp310-cp310-manylinux_2_17_x86_64.manylinux2014_x86_64.whl (113 kB)\n",
            "\u001b[2K     \u001b[90m━━━━━━━━━━━━━━━━━━━━━━━━━━━━━━━━━━━━━━\u001b[0m \u001b[32m113.3/113.3 kB\u001b[0m \u001b[31m13.5 MB/s\u001b[0m eta \u001b[36m0:00:00\u001b[0m\n",
            "\u001b[?25hCollecting trec-car-tools>=2.5.4\n",
            "  Downloading trec_car_tools-2.6-py3-none-any.whl (8.4 kB)\n",
            "Requirement already satisfied: numpy>=1.18.1 in /usr/local/lib/python3.10/dist-packages (from ir_datasets) (1.22.4)\n",
            "Requirement already satisfied: lxml>=4.5.2 in /usr/local/lib/python3.10/dist-packages (from ir_datasets) (4.9.2)\n",
            "Collecting pyautocorpus>=0.1.1\n",
            "  Downloading pyautocorpus-0.1.9.tar.gz (10 kB)\n",
            "  Preparing metadata (setup.py) ... \u001b[?25l\u001b[?25hdone\n",
            "Requirement already satisfied: soupsieve>1.2 in /usr/local/lib/python3.10/dist-packages (from beautifulsoup4>=4.4.1->ir_datasets) (2.4.1)\n",
            "Requirement already satisfied: certifi>=2017.4.17 in /usr/local/lib/python3.10/dist-packages (from requests>=2.22.0->ir_datasets) (2022.12.7)\n",
            "Requirement already satisfied: charset-normalizer~=2.0.0 in /usr/local/lib/python3.10/dist-packages (from requests>=2.22.0->ir_datasets) (2.0.12)\n",
            "Requirement already satisfied: urllib3<1.27,>=1.21.1 in /usr/local/lib/python3.10/dist-packages (from requests>=2.22.0->ir_datasets) (1.26.15)\n",
            "Requirement already satisfied: idna<4,>=2.5 in /usr/local/lib/python3.10/dist-packages (from requests>=2.22.0->ir_datasets) (3.4)\n",
            "Collecting cbor>=1.0.0\n",
            "  Downloading cbor-1.0.0.tar.gz (20 kB)\n",
            "  Preparing metadata (setup.py) ... \u001b[?25l\u001b[?25hdone\n",
            "Building wheels for collected packages: pyautocorpus, warc3-wet-clueweb09, zlib-state, cbor\n",
            "  Building wheel for pyautocorpus (setup.py) ... \u001b[?25l\u001b[?25hdone\n",
            "  Created wheel for pyautocorpus: filename=pyautocorpus-0.1.9-cp310-cp310-linux_x86_64.whl size=189859 sha256=9f388dda4fa2df3b34afe9b3d803428cc5154b11d90cfab8a46214807af2188b\n",
            "  Stored in directory: /root/.cache/pip/wheels/e2/be/43/ec1e16468c393f6e474e3be6ec6f17fad2216c088328348630\n",
            "  Building wheel for warc3-wet-clueweb09 (setup.py) ... \u001b[?25l\u001b[?25hdone\n",
            "  Created wheel for warc3-wet-clueweb09: filename=warc3_wet_clueweb09-0.2.5-py3-none-any.whl size=18918 sha256=198f803cf6f0db53f4bb4a87a60b92153389e394e02c5472a2b8f71dfaf1dc7d\n",
            "  Stored in directory: /root/.cache/pip/wheels/1a/d7/91/7ffb991df87e62355d945745035470ba2616aa3d83a250b5f9\n",
            "  Building wheel for zlib-state (setup.py) ... \u001b[?25l\u001b[?25hdone\n",
            "  Created wheel for zlib-state: filename=zlib_state-0.1.5-cp310-cp310-linux_x86_64.whl size=26629 sha256=731f912f5cbbadfdc130e75e453a625261d1932257a458b6f16d943c43ecccdd\n",
            "  Stored in directory: /root/.cache/pip/wheels/f8/7a/4e/8fa633b918bea99c052211d41caf8529707d7eae1099d5e5dd\n",
            "  Building wheel for cbor (setup.py) ... \u001b[?25l\u001b[?25hdone\n",
            "  Created wheel for cbor: filename=cbor-1.0.0-cp310-cp310-linux_x86_64.whl size=57664 sha256=c8adb5b928e64d807ec8bb8c806eb84739bc72218937e13f4aa900e39b24eb9e\n",
            "  Stored in directory: /root/.cache/pip/wheels/85/df/c9/b39e40eccaf76dbd218556639a6dc81562226f4c6a64902c85\n",
            "Successfully built pyautocorpus warc3-wet-clueweb09 zlib-state cbor\n",
            "Installing collected packages: warc3-wet-clueweb09, warc3-wet, ijson, cbor, zlib-state, unlzw3, trec-car-tools, pyautocorpus, lz4, ir_datasets\n",
            "Successfully installed cbor-1.0.0 ijson-3.2.0.post0 ir_datasets-0.5.4 lz4-4.3.2 pyautocorpus-0.1.9 trec-car-tools-2.6 unlzw3-0.2.2 warc3-wet-0.2.3 warc3-wet-clueweb09-0.2.5 zlib-state-0.1.5\n",
            "Looking in indexes: https://pypi.org/simple, https://us-python.pkg.dev/colab-wheels/public/simple/\n",
            "Collecting datasets\n",
            "  Downloading datasets-2.12.0-py3-none-any.whl (474 kB)\n",
            "\u001b[2K     \u001b[90m━━━━━━━━━━━━━━━━━━━━━━━━━━━━━━━━━━━━━━\u001b[0m \u001b[32m474.6/474.6 kB\u001b[0m \u001b[31m10.1 MB/s\u001b[0m eta \u001b[36m0:00:00\u001b[0m\n",
            "\u001b[?25hRequirement already satisfied: pandas in /usr/local/lib/python3.10/dist-packages (from datasets) (1.5.3)\n",
            "Collecting xxhash\n",
            "  Downloading xxhash-3.2.0-cp310-cp310-manylinux_2_17_x86_64.manylinux2014_x86_64.whl (212 kB)\n",
            "\u001b[2K     \u001b[90m━━━━━━━━━━━━━━━━━━━━━━━━━━━━━━━━━━━━━━\u001b[0m \u001b[32m212.5/212.5 kB\u001b[0m \u001b[31m20.0 MB/s\u001b[0m eta \u001b[36m0:00:00\u001b[0m\n",
            "\u001b[?25hCollecting aiohttp\n",
            "  Downloading aiohttp-3.8.4-cp310-cp310-manylinux_2_17_x86_64.manylinux2014_x86_64.whl (1.0 MB)\n",
            "\u001b[2K     \u001b[90m━━━━━━━━━━━━━━━━━━━━━━━━━━━━━━━━━━━━━━━━\u001b[0m \u001b[32m1.0/1.0 MB\u001b[0m \u001b[31m43.1 MB/s\u001b[0m eta \u001b[36m0:00:00\u001b[0m\n",
            "\u001b[?25hRequirement already satisfied: fsspec[http]>=2021.11.1 in /usr/local/lib/python3.10/dist-packages (from datasets) (2023.4.0)\n",
            "Collecting dill<0.3.7,>=0.3.0\n",
            "  Downloading dill-0.3.6-py3-none-any.whl (110 kB)\n",
            "\u001b[2K     \u001b[90m━━━━━━━━━━━━━━━━━━━━━━━━━━━━━━━━━━━━━━\u001b[0m \u001b[32m110.5/110.5 kB\u001b[0m \u001b[31m14.6 MB/s\u001b[0m eta \u001b[36m0:00:00\u001b[0m\n",
            "\u001b[?25hCollecting multiprocess\n",
            "  Downloading multiprocess-0.70.14-py310-none-any.whl (134 kB)\n",
            "\u001b[2K     \u001b[90m━━━━━━━━━━━━━━━━━━━━━━━━━━━━━━━━━━━━━━\u001b[0m \u001b[32m134.3/134.3 kB\u001b[0m \u001b[31m17.3 MB/s\u001b[0m eta \u001b[36m0:00:00\u001b[0m\n",
            "\u001b[?25hRequirement already satisfied: packaging in /usr/local/lib/python3.10/dist-packages (from datasets) (23.1)\n",
            "Requirement already satisfied: requests>=2.19.0 in /usr/local/lib/python3.10/dist-packages (from datasets) (2.27.1)\n",
            "Collecting responses<0.19\n",
            "  Downloading responses-0.18.0-py3-none-any.whl (38 kB)\n",
            "Requirement already satisfied: numpy>=1.17 in /usr/local/lib/python3.10/dist-packages (from datasets) (1.22.4)\n",
            "Collecting huggingface-hub<1.0.0,>=0.11.0\n",
            "  Downloading huggingface_hub-0.14.1-py3-none-any.whl (224 kB)\n",
            "\u001b[2K     \u001b[90m━━━━━━━━━━━━━━━━━━━━━━━━━━━━━━━━━━━━━━\u001b[0m \u001b[32m224.5/224.5 kB\u001b[0m \u001b[31m16.4 MB/s\u001b[0m eta \u001b[36m0:00:00\u001b[0m\n",
            "\u001b[?25hRequirement already satisfied: pyyaml>=5.1 in /usr/local/lib/python3.10/dist-packages (from datasets) (6.0)\n",
            "Requirement already satisfied: pyarrow>=8.0.0 in /usr/local/lib/python3.10/dist-packages (from datasets) (9.0.0)\n",
            "Requirement already satisfied: tqdm>=4.62.1 in /usr/local/lib/python3.10/dist-packages (from datasets) (4.65.0)\n",
            "Requirement already satisfied: charset-normalizer<4.0,>=2.0 in /usr/local/lib/python3.10/dist-packages (from aiohttp->datasets) (2.0.12)\n",
            "Collecting frozenlist>=1.1.1\n",
            "  Downloading frozenlist-1.3.3-cp310-cp310-manylinux_2_5_x86_64.manylinux1_x86_64.manylinux_2_17_x86_64.manylinux2014_x86_64.whl (149 kB)\n",
            "\u001b[2K     \u001b[90m━━━━━━━━━━━━━━━━━━━━━━━━━━━━━━━━━━━━━━\u001b[0m \u001b[32m149.6/149.6 kB\u001b[0m \u001b[31m18.2 MB/s\u001b[0m eta \u001b[36m0:00:00\u001b[0m\n",
            "\u001b[?25hCollecting multidict<7.0,>=4.5\n",
            "  Downloading multidict-6.0.4-cp310-cp310-manylinux_2_17_x86_64.manylinux2014_x86_64.whl (114 kB)\n",
            "\u001b[2K     \u001b[90m━━━━━━━━━━━━━━━━━━━━━━━━━━━━━━━━━━━━━━\u001b[0m \u001b[32m114.5/114.5 kB\u001b[0m \u001b[31m12.2 MB/s\u001b[0m eta \u001b[36m0:00:00\u001b[0m\n",
            "\u001b[?25hCollecting async-timeout<5.0,>=4.0.0a3\n",
            "  Downloading async_timeout-4.0.2-py3-none-any.whl (5.8 kB)\n",
            "Collecting yarl<2.0,>=1.0\n",
            "  Downloading yarl-1.9.2-cp310-cp310-manylinux_2_17_x86_64.manylinux2014_x86_64.whl (268 kB)\n",
            "\u001b[2K     \u001b[90m━━━━━━━━━━━━━━━━━━━━━━━━━━━━━━━━━━━━━━\u001b[0m \u001b[32m268.8/268.8 kB\u001b[0m \u001b[31m25.1 MB/s\u001b[0m eta \u001b[36m0:00:00\u001b[0m\n",
            "\u001b[?25hRequirement already satisfied: attrs>=17.3.0 in /usr/local/lib/python3.10/dist-packages (from aiohttp->datasets) (23.1.0)\n",
            "Collecting aiosignal>=1.1.2\n",
            "  Downloading aiosignal-1.3.1-py3-none-any.whl (7.6 kB)\n",
            "Requirement already satisfied: typing-extensions>=3.7.4.3 in /usr/local/lib/python3.10/dist-packages (from huggingface-hub<1.0.0,>=0.11.0->datasets) (4.5.0)\n",
            "Requirement already satisfied: filelock in /usr/local/lib/python3.10/dist-packages (from huggingface-hub<1.0.0,>=0.11.0->datasets) (3.12.0)\n",
            "Requirement already satisfied: certifi>=2017.4.17 in /usr/local/lib/python3.10/dist-packages (from requests>=2.19.0->datasets) (2022.12.7)\n",
            "Requirement already satisfied: urllib3<1.27,>=1.21.1 in /usr/local/lib/python3.10/dist-packages (from requests>=2.19.0->datasets) (1.26.15)\n",
            "Requirement already satisfied: idna<4,>=2.5 in /usr/local/lib/python3.10/dist-packages (from requests>=2.19.0->datasets) (3.4)\n",
            "Requirement already satisfied: pytz>=2020.1 in /usr/local/lib/python3.10/dist-packages (from pandas->datasets) (2022.7.1)\n",
            "Requirement already satisfied: python-dateutil>=2.8.1 in /usr/local/lib/python3.10/dist-packages (from pandas->datasets) (2.8.2)\n",
            "Requirement already satisfied: six>=1.5 in /usr/local/lib/python3.10/dist-packages (from python-dateutil>=2.8.1->pandas->datasets) (1.16.0)\n",
            "Installing collected packages: xxhash, multidict, frozenlist, dill, async-timeout, yarl, responses, multiprocess, huggingface-hub, aiosignal, aiohttp, datasets\n",
            "Successfully installed aiohttp-3.8.4 aiosignal-1.3.1 async-timeout-4.0.2 datasets-2.12.0 dill-0.3.6 frozenlist-1.3.3 huggingface-hub-0.14.1 multidict-6.0.4 multiprocess-0.70.14 responses-0.18.0 xxhash-3.2.0 yarl-1.9.2\n"
          ]
        }
      ]
    },
    {
      "cell_type": "code",
      "execution_count": 3,
      "metadata": {
        "colab": {
          "base_uri": "https://localhost:8080/"
        },
        "id": "MMqvycvs9jFe",
        "outputId": "9734f658-f0cf-4b45-d401-f2c26ed70c2c"
      },
      "outputs": [
        {
          "output_type": "stream",
          "name": "stderr",
          "text": [
            "[nltk_data] Downloading package punkt to /root/nltk_data...\n",
            "[nltk_data]   Unzipping tokenizers/punkt.zip.\n"
          ]
        },
        {
          "output_type": "execute_result",
          "data": {
            "text/plain": [
              "True"
            ]
          },
          "metadata": {},
          "execution_count": 3
        }
      ],
      "source": [
        "import ir_datasets\n",
        "import datasets\n",
        "import os\n",
        "import random\n",
        "import string\n",
        "import numpy as np\n",
        "import tensorflow as tf\n",
        "from sklearn.feature_extraction.text import CountVectorizer\n",
        "from pprint import pprint\n",
        "# Libraries for visualization\n",
        "import seaborn as sns\n",
        "import matplotlib.pyplot as plt\n",
        "from datasets import load_dataset\n",
        "import nltk\n",
        "nltk.download('punkt')\n"
      ]
    },
    {
      "cell_type": "markdown",
      "source": [
        "# **Load & Preprocess Dataset**"
      ],
      "metadata": {
        "id": "xoaGjeNINKUr"
      }
    },
    {
      "cell_type": "markdown",
      "source": [
        "*italicized text*## Load Cranfield Dataset\n",
        "\n",
        "\n"
      ],
      "metadata": {
        "id": "FeXAmyMpzZkN"
      }
    },
    {
      "cell_type": "code",
      "source": [
        "docs = load_dataset('irds/cranfield', 'docs')\n",
        "queries = load_dataset('irds/cranfield', 'queries')\n",
        "qrels = load_dataset('irds/cranfield', 'qrels')"
      ],
      "metadata": {
        "colab": {
          "base_uri": "https://localhost:8080/",
          "height": 396,
          "referenced_widgets": [
            "6a874bf3d1ca4998b36a257edbada1cf",
            "fe9147b3960542989fab07de5f4deaf6",
            "c37ae3998990477a9632ba63e46211ad",
            "fc1cda179fd84f6bbd6dd2d8c049cefc",
            "3954d1050d424a728a274e667b18eb76",
            "e6dd7f36524c4ea488012a1a2aadd9ff",
            "d3ab21c3de3640c0a04f969b64f4344e",
            "faad5d98034b4644968cd356af712d8e",
            "74dd828b6c9e4df5883c772d8d375385",
            "9ef7c62837f94d56be7f6f8e13ad58f7",
            "39ac7775f609469f8d9ef3500fb8638d",
            "94d54376430f4ecd99ceff531eeff10d",
            "0196349e9a1942e79c15bcdc6b91d54c",
            "ca1f98acb42c4419a623f66a9ecf3120",
            "8ccfa25ffb4a4993a06f0d68eef8af63",
            "e730291a2b3f4460b58368cedcb2c300",
            "03317b5f6a904ab3973b108dcadc934c",
            "8936982ff48f4cb8b17bd435272c59ae",
            "c055f12258dc4a78894dc222a1858465",
            "f44508fedc4f4d95854c01614145d4ec",
            "4b9772a66452428daf95361b067c2c09",
            "5535a2911ce8478eb669b006d5f10ab8",
            "68614cd31b6248a8896e9c1fdeafe9fe",
            "777c06739e324bc7b9563eff860c670f",
            "e49eb5cb7fa74eb3aa12c6e6bf828dac",
            "3dce6d9146644b36a0678423618087e0",
            "6da145a885a74ae4b42b3a4cc9ec3bbc",
            "fc2f0ea9a5e94373adbd5975f71b65f8",
            "02a23b2b5530423591b99fc71f337a7c",
            "545d7d2cd20e4badb32a2edb094c84bc",
            "529f25eb36864860b4cdf5368affe09e",
            "fe57f4bcce5542388093f9e9dab55988",
            "5f3b8d1f154d4eddae0cba3f562a9543",
            "45265653d8bc486dad2d1169f507938e",
            "6dcd61b6cb294d9f8c860e16decac234",
            "1491f83f17504ba4877a23f5361f6e20",
            "5f7ceebf276f44259f3caae0a5e7d29a",
            "6975e41e659a4efd9ae931f615bcdbf2",
            "f6f702fa903940749e53214f71eacbfb",
            "126662e863af4e6288f6162906a13462",
            "4065d3c698004d2fbcee6cdef58f6050",
            "281072810d444e1cb3b3c52e4c11f3de",
            "4a2a76c31a6541bda29534609356885d",
            "da1f27c90e174ac6a4339930e5c4e59b",
            "a5f45fcd44ca4084a4234d91ea7473fc",
            "ec6a63183b0c46ae9841fc9e2ba1dd98",
            "ddac05215b21461a9dffdea190ce27a0",
            "2636230cc2c8405f94b56fb75e45e853",
            "42c4e2a1433e416ea7639114fa697ef7",
            "8a820439d14448b3a05992bf440b377e",
            "419d7c16708d48308e47098fc904daa9",
            "24128df36041415384b963e73b955498",
            "75410545b0094177bea4e7cc1d5d6777",
            "ee52b35aa9c743149e99bdae51d8e72e",
            "cf129521f3ba4d5baa7e31d6c5903563"
          ]
        },
        "id": "OL2T9acCZ_nT",
        "outputId": "f2731a77-ee6e-4216-9268-b5673ed107a9"
      },
      "execution_count": 4,
      "outputs": [
        {
          "output_type": "display_data",
          "data": {
            "text/plain": [
              "Downloading builder script:   0%|          | 0.00/1.69k [00:00<?, ?B/s]"
            ],
            "application/vnd.jupyter.widget-view+json": {
              "version_major": 2,
              "version_minor": 0,
              "model_id": "6a874bf3d1ca4998b36a257edbada1cf"
            }
          },
          "metadata": {}
        },
        {
          "output_type": "display_data",
          "data": {
            "text/plain": [
              "Downloading readme:   0%|          | 0.00/1.16k [00:00<?, ?B/s]"
            ],
            "application/vnd.jupyter.widget-view+json": {
              "version_major": 2,
              "version_minor": 0,
              "model_id": "94d54376430f4ecd99ceff531eeff10d"
            }
          },
          "metadata": {}
        },
        {
          "output_type": "stream",
          "name": "stdout",
          "text": [
            "Downloading and preparing dataset cranfield/docs to /root/.cache/huggingface/datasets/irds___cranfield/docs/0.0.0/536466f855c21fe9d9c5db7b5b943c71ea5743bf33bec55c55b69ae3adc5d6c2...\n"
          ]
        },
        {
          "output_type": "display_data",
          "data": {
            "text/plain": [
              "Generating docs split: 0 examples [00:00, ? examples/s]"
            ],
            "application/vnd.jupyter.widget-view+json": {
              "version_major": 2,
              "version_minor": 0,
              "model_id": "68614cd31b6248a8896e9c1fdeafe9fe"
            }
          },
          "metadata": {}
        },
        {
          "output_type": "stream",
          "name": "stderr",
          "text": [
            "[INFO] [starting] http://ir.dcs.gla.ac.uk/resources/test_collections/cran/cran.tar.gz\n",
            "\n",
            "http://ir.dcs.gla.ac.uk/resources/test_collections/cran/cran.tar.gz: 0.0%| 0.00/507k [00:00<?, ?B/s]\u001b[A\n",
            "http://ir.dcs.gla.ac.uk/resources/test_collections/cran/cran.tar.gz: 9.7%| 49.2k/507k [00:00<00:01, 241kB/s]\u001b[A\n",
            "http://ir.dcs.gla.ac.uk/resources/test_collections/cran/cran.tar.gz: 19.4%| 98.3k/507k [00:00<00:01, 318kB/s]\u001b[A\n",
            "http://ir.dcs.gla.ac.uk/resources/test_collections/cran/cran.tar.gz: 29.1%| 147k/507k [00:00<00:01, 355kB/s] \u001b[A\n",
            "http://ir.dcs.gla.ac.uk/resources/test_collections/cran/cran.tar.gz: 50.1%| 254k/507k [00:00<00:00, 488kB/s]\u001b[A\n",
            "http://ir.dcs.gla.ac.uk/resources/test_collections/cran/cran.tar.gz: 100.0%| 507k/507k [00:00<00:00, 811kB/s]\u001b[A\n",
            "\u001b[A[INFO] [finished] http://ir.dcs.gla.ac.uk/resources/test_collections/cran/cran.tar.gz: [00:00] [507kB] [809kB/s]\n",
            "\n",
            "http://ir.dcs.gla.ac.uk/resources/test_collections/cran/cran.tar.gz: [00:00] [507kB] [801kB/s]\u001b[A\n",
            "                                                                                              \u001b[A"
          ]
        },
        {
          "output_type": "stream",
          "name": "stdout",
          "text": [
            "Dataset cranfield downloaded and prepared to /root/.cache/huggingface/datasets/irds___cranfield/docs/0.0.0/536466f855c21fe9d9c5db7b5b943c71ea5743bf33bec55c55b69ae3adc5d6c2. Subsequent calls will reuse this data.\n",
            "Downloading and preparing dataset cranfield/queries to /root/.cache/huggingface/datasets/irds___cranfield/queries/0.0.0/536466f855c21fe9d9c5db7b5b943c71ea5743bf33bec55c55b69ae3adc5d6c2...\n"
          ]
        },
        {
          "output_type": "display_data",
          "data": {
            "text/plain": [
              "Generating queries split: 0 examples [00:00, ? examples/s]"
            ],
            "application/vnd.jupyter.widget-view+json": {
              "version_major": 2,
              "version_minor": 0,
              "model_id": "45265653d8bc486dad2d1169f507938e"
            }
          },
          "metadata": {}
        },
        {
          "output_type": "stream",
          "name": "stdout",
          "text": [
            "Dataset cranfield downloaded and prepared to /root/.cache/huggingface/datasets/irds___cranfield/queries/0.0.0/536466f855c21fe9d9c5db7b5b943c71ea5743bf33bec55c55b69ae3adc5d6c2. Subsequent calls will reuse this data.\n",
            "Downloading and preparing dataset cranfield/qrels to /root/.cache/huggingface/datasets/irds___cranfield/qrels/0.0.0/536466f855c21fe9d9c5db7b5b943c71ea5743bf33bec55c55b69ae3adc5d6c2...\n"
          ]
        },
        {
          "output_type": "display_data",
          "data": {
            "text/plain": [
              "Generating qrels split: 0 examples [00:00, ? examples/s]"
            ],
            "application/vnd.jupyter.widget-view+json": {
              "version_major": 2,
              "version_minor": 0,
              "model_id": "a5f45fcd44ca4084a4234d91ea7473fc"
            }
          },
          "metadata": {}
        },
        {
          "output_type": "stream",
          "name": "stdout",
          "text": [
            "Dataset cranfield downloaded and prepared to /root/.cache/huggingface/datasets/irds___cranfield/qrels/0.0.0/536466f855c21fe9d9c5db7b5b943c71ea5743bf33bec55c55b69ae3adc5d6c2. Subsequent calls will reuse this data.\n"
          ]
        }
      ]
    },
    {
      "cell_type": "code",
      "source": [
        "rel_dict = {}\n",
        "doc_rel, qry_rel = set(), set()\n",
        "for query in qrels:\n",
        "  query_id=int(query['query_id'])\n",
        "  doc_id =int(query['doc_id'].split('_')[0])\n",
        "  qry_rel.add(query_id)\n",
        "  doc_rel.add(doc_id)\n",
        "  if query_id in rel_dict:\n",
        "    rel_dict[query_id].append(doc_id)\n",
        "  else:\n",
        "    rel_dict[query_id] = []\n",
        "    rel_dict[query_id].append(doc_id)\n",
        "\n",
        "rel_dict = {int(qid): list(map(int, did_lst)) for (qid, did_lst) in rel_dict.items()}\n",
        "\n",
        "doc_dict = {}\n",
        "for i, doc in enumerate(docs):\n",
        "  doc['doc_id'] = int(doc['doc_id'].split('_')[0])\n",
        "  if doc['doc_id'] in doc_rel:\n",
        "    doc_dict[i] = doc['text']\n",
        "\n",
        "\n",
        "qry_dict={}\n",
        "for i, qry in enumerate(queries):\n",
        "  if int(qry['query_id']) in qry_rel:\n",
        "    qry_dict[i] = qry['text']"
      ],
      "metadata": {
        "id": "2_UuIjGi9nSO"
      },
      "execution_count": 5,
      "outputs": []
    },
    {
      "cell_type": "code",
      "source": [
        "rel_sum = 0\n",
        "for doc_ids in rel_dict.values():\n",
        "  rel_sum += len(doc_ids)\n",
        "print(f'Number of queries = {len(qry_dict)}')\n",
        "print(f'* Example: {qry_dict[1]}')\n",
        "print(f'\\nNumber of documents = {len(doc_dict)}')\n",
        "print(f'* Example: {doc_dict[1]}')\n",
        "print(f'\\nNumber of q-d+ = {rel_sum}')\n",
        "print(f'* Example:', {1: rel_dict[1]})"
      ],
      "metadata": {
        "id": "5tpMAQyhl35S",
        "colab": {
          "base_uri": "https://localhost:8080/"
        },
        "outputId": "486f8f4d-d0a6-45f7-da96-7fedf7f7788d"
      },
      "execution_count": 6,
      "outputs": [
        {
          "output_type": "stream",
          "name": "stdout",
          "text": [
            "Number of queries = 152\n",
            "* Example: what are the structural and aeroelastic problems associated with flight\n",
            "of high speed aircraft .\n",
            "\n",
            "Number of documents = 924\n",
            "* Example: simple shear flow past a flat plate in an incompressible fluid of small\n",
            "viscosity .\n",
            "in the study of high-speed viscous flow past a two-dimensional body it\n",
            "is usually necessary to consider a curved shock wave emitting from the\n",
            "nose or leading edge of the body .  consequently, there exists an\n",
            "inviscid rotational flow region between the shock wave and the boundary\n",
            "layer .  such a situation arises, for instance, in the study of the\n",
            "hypersonic viscous flow past a flat plate .  the situation is somewhat\n",
            "different from prandtl's classical boundary-layer problem . in prandtl's\n",
            "original problem the inviscid free stream outside the boundary layer is\n",
            "irrotational while in a hypersonic boundary-layer problem the inviscid\n",
            "free stream must be considered as rotational .  the possible effects of\n",
            "vorticity have been recently discussed by ferri and libby .  in the\n",
            "present paper, the simple shear flow past a flat plate in a fluid of small\n",
            "viscosity is investigated .  it can be shown that this problem can again\n",
            "be treated by the boundary-layer approximation, the only novel feature\n",
            "being that the free stream has a constant vorticity .  the discussion\n",
            "here is restricted to two-dimensional incompressible steady flow .\n",
            "\n",
            "Number of q-d+ = 1837\n",
            "* Example: {1: [184, 29, 31, 12, 51, 102, 13, 14, 15, 57, 378, 859, 185, 30, 37, 52, 142, 195, 875, 56, 66, 95, 462, 497, 858, 876, 879, 880, 486]}\n"
          ]
        }
      ]
    },
    {
      "cell_type": "markdown",
      "source": [
        "## Preprocess Text"
      ],
      "metadata": {
        "id": "xuy1cWkHChH5"
      }
    },
    {
      "cell_type": "code",
      "source": [
        "# remove all punctuations\n",
        "for k, v in qry_dict.items():\n",
        "  qry_dict[k] = v.translate(str.maketrans('', '', string.punctuation))\n",
        "for k, v in doc_dict.items():\n",
        "  doc_dict[k] = v.translate(str.maketrans('', '', string.punctuation))"
      ],
      "metadata": {
        "id": "1EYISfG36mul"
      },
      "execution_count": 7,
      "outputs": []
    },
    {
      "cell_type": "code",
      "source": [
        "print('Query')\n",
        "print(f'* Example: {qry_dict[1]}')\n",
        "print('Document')\n",
        "print(f'* Example: {doc_dict[1]}')"
      ],
      "metadata": {
        "colab": {
          "base_uri": "https://localhost:8080/"
        },
        "id": "aK0UMaZOCe2a",
        "outputId": "77717cec-205c-48ac-90ad-bdfce91a1d5e"
      },
      "execution_count": 8,
      "outputs": [
        {
          "output_type": "stream",
          "name": "stdout",
          "text": [
            "Query\n",
            "* Example: what are the structural and aeroelastic problems associated with flight\n",
            "of high speed aircraft \n",
            "Document\n",
            "* Example: simple shear flow past a flat plate in an incompressible fluid of small\n",
            "viscosity \n",
            "in the study of highspeed viscous flow past a twodimensional body it\n",
            "is usually necessary to consider a curved shock wave emitting from the\n",
            "nose or leading edge of the body   consequently there exists an\n",
            "inviscid rotational flow region between the shock wave and the boundary\n",
            "layer   such a situation arises for instance in the study of the\n",
            "hypersonic viscous flow past a flat plate   the situation is somewhat\n",
            "different from prandtls classical boundarylayer problem  in prandtls\n",
            "original problem the inviscid free stream outside the boundary layer is\n",
            "irrotational while in a hypersonic boundarylayer problem the inviscid\n",
            "free stream must be considered as rotational   the possible effects of\n",
            "vorticity have been recently discussed by ferri and libby   in the\n",
            "present paper the simple shear flow past a flat plate in a fluid of small\n",
            "viscosity is investigated   it can be shown that this problem can again\n",
            "be treated by the boundarylayer approximation the only novel feature\n",
            "being that the free stream has a constant vorticity   the discussion\n",
            "here is restricted to twodimensional incompressible steady flow \n"
          ]
        }
      ]
    },
    {
      "cell_type": "code",
      "source": [
        "# find unrelated documents for each query\n",
        "random.seed(500)\n",
        "unrel_dict = {}\n",
        "for q, doc_ids in rel_dict.items():\n",
        "  unrel = [d for d in doc_dict.keys() if d not in doc_ids]\n",
        "  random.shuffle(unrel)\n",
        "  unrel_dict[q] = unrel"
      ],
      "metadata": {
        "id": "6_qSvbaIanmM"
      },
      "execution_count": 9,
      "outputs": []
    },
    {
      "cell_type": "code",
      "source": [
        "#split dataset\n",
        "# train 90% --- test 10%\n",
        "test_split = int(len(rel_dict) * 0.1)\n",
        "print(f'Number of queries in train set: {len(rel_dict) - test_split}')\n",
        "print(f'Number of queries in validation set: {test_split}')"
      ],
      "metadata": {
        "colab": {
          "base_uri": "https://localhost:8080/"
        },
        "id": "DaAVRygYariw",
        "outputId": "676c27a2-3556-46ee-aa04-b43706f79883"
      },
      "execution_count": 10,
      "outputs": [
        {
          "output_type": "stream",
          "name": "stdout",
          "text": [
            "Number of queries in train set: 203\n",
            "Number of queries in validation set: 22\n"
          ]
        }
      ]
    },
    {
      "cell_type": "code",
      "source": [
        "# create test set\n",
        "random.seed(500)\n",
        "test_qry_set = random.sample(list(rel_dict.keys()), test_split)\n",
        "print('Queries in validation set:')\n",
        "print(test_qry_set)"
      ],
      "metadata": {
        "colab": {
          "base_uri": "https://localhost:8080/"
        },
        "id": "Hwhwp_sSatBJ",
        "outputId": "cbc7b4a2-3b68-4302-b992-3b3d400e6e24"
      },
      "execution_count": 11,
      "outputs": [
        {
          "output_type": "stream",
          "name": "stdout",
          "text": [
            "Queries in validation set:\n",
            "[205, 119, 135, 149, 120, 66, 163, 194, 179, 97, 55, 206, 28, 87, 225, 147, 189, 203, 24, 5, 52, 85]\n"
          ]
        }
      ]
    },
    {
      "cell_type": "markdown",
      "source": [
        "# **DSSM Model**"
      ],
      "metadata": {
        "id": "RGyT1WirtHhA"
      }
    },
    {
      "cell_type": "markdown",
      "source": [
        "## Word Hashing"
      ],
      "metadata": {
        "id": "Epcn5TfYMOLw"
      }
    },
    {
      "cell_type": "code",
      "source": [
        "# word hashing\n",
        "word_hashing = CountVectorizer(lowercase=True, analyzer='char_wb', ngram_range=(3, 3))\n",
        "word_hashing.fit(list(doc_dict.values()) + list(qry_dict.values()))"
      ],
      "metadata": {
        "colab": {
          "base_uri": "https://localhost:8080/",
          "height": 74
        },
        "id": "53DgxPjy19oU",
        "outputId": "4f3e07c0-8d81-4e22-80f9-8205c4bfa711"
      },
      "execution_count": 12,
      "outputs": [
        {
          "output_type": "execute_result",
          "data": {
            "text/plain": [
              "CountVectorizer(analyzer='char_wb', ngram_range=(3, 3))"
            ],
            "text/html": [
              "<style>#sk-container-id-1 {color: black;background-color: white;}#sk-container-id-1 pre{padding: 0;}#sk-container-id-1 div.sk-toggleable {background-color: white;}#sk-container-id-1 label.sk-toggleable__label {cursor: pointer;display: block;width: 100%;margin-bottom: 0;padding: 0.3em;box-sizing: border-box;text-align: center;}#sk-container-id-1 label.sk-toggleable__label-arrow:before {content: \"▸\";float: left;margin-right: 0.25em;color: #696969;}#sk-container-id-1 label.sk-toggleable__label-arrow:hover:before {color: black;}#sk-container-id-1 div.sk-estimator:hover label.sk-toggleable__label-arrow:before {color: black;}#sk-container-id-1 div.sk-toggleable__content {max-height: 0;max-width: 0;overflow: hidden;text-align: left;background-color: #f0f8ff;}#sk-container-id-1 div.sk-toggleable__content pre {margin: 0.2em;color: black;border-radius: 0.25em;background-color: #f0f8ff;}#sk-container-id-1 input.sk-toggleable__control:checked~div.sk-toggleable__content {max-height: 200px;max-width: 100%;overflow: auto;}#sk-container-id-1 input.sk-toggleable__control:checked~label.sk-toggleable__label-arrow:before {content: \"▾\";}#sk-container-id-1 div.sk-estimator input.sk-toggleable__control:checked~label.sk-toggleable__label {background-color: #d4ebff;}#sk-container-id-1 div.sk-label input.sk-toggleable__control:checked~label.sk-toggleable__label {background-color: #d4ebff;}#sk-container-id-1 input.sk-hidden--visually {border: 0;clip: rect(1px 1px 1px 1px);clip: rect(1px, 1px, 1px, 1px);height: 1px;margin: -1px;overflow: hidden;padding: 0;position: absolute;width: 1px;}#sk-container-id-1 div.sk-estimator {font-family: monospace;background-color: #f0f8ff;border: 1px dotted black;border-radius: 0.25em;box-sizing: border-box;margin-bottom: 0.5em;}#sk-container-id-1 div.sk-estimator:hover {background-color: #d4ebff;}#sk-container-id-1 div.sk-parallel-item::after {content: \"\";width: 100%;border-bottom: 1px solid gray;flex-grow: 1;}#sk-container-id-1 div.sk-label:hover label.sk-toggleable__label {background-color: #d4ebff;}#sk-container-id-1 div.sk-serial::before {content: \"\";position: absolute;border-left: 1px solid gray;box-sizing: border-box;top: 0;bottom: 0;left: 50%;z-index: 0;}#sk-container-id-1 div.sk-serial {display: flex;flex-direction: column;align-items: center;background-color: white;padding-right: 0.2em;padding-left: 0.2em;position: relative;}#sk-container-id-1 div.sk-item {position: relative;z-index: 1;}#sk-container-id-1 div.sk-parallel {display: flex;align-items: stretch;justify-content: center;background-color: white;position: relative;}#sk-container-id-1 div.sk-item::before, #sk-container-id-1 div.sk-parallel-item::before {content: \"\";position: absolute;border-left: 1px solid gray;box-sizing: border-box;top: 0;bottom: 0;left: 50%;z-index: -1;}#sk-container-id-1 div.sk-parallel-item {display: flex;flex-direction: column;z-index: 1;position: relative;background-color: white;}#sk-container-id-1 div.sk-parallel-item:first-child::after {align-self: flex-end;width: 50%;}#sk-container-id-1 div.sk-parallel-item:last-child::after {align-self: flex-start;width: 50%;}#sk-container-id-1 div.sk-parallel-item:only-child::after {width: 0;}#sk-container-id-1 div.sk-dashed-wrapped {border: 1px dashed gray;margin: 0 0.4em 0.5em 0.4em;box-sizing: border-box;padding-bottom: 0.4em;background-color: white;}#sk-container-id-1 div.sk-label label {font-family: monospace;font-weight: bold;display: inline-block;line-height: 1.2em;}#sk-container-id-1 div.sk-label-container {text-align: center;}#sk-container-id-1 div.sk-container {/* jupyter's `normalize.less` sets `[hidden] { display: none; }` but bootstrap.min.css set `[hidden] { display: none !important; }` so we also need the `!important` here to be able to override the default hidden behavior on the sphinx rendered scikit-learn.org. See: https://github.com/scikit-learn/scikit-learn/issues/21755 */display: inline-block !important;position: relative;}#sk-container-id-1 div.sk-text-repr-fallback {display: none;}</style><div id=\"sk-container-id-1\" class=\"sk-top-container\"><div class=\"sk-text-repr-fallback\"><pre>CountVectorizer(analyzer=&#x27;char_wb&#x27;, ngram_range=(3, 3))</pre><b>In a Jupyter environment, please rerun this cell to show the HTML representation or trust the notebook. <br />On GitHub, the HTML representation is unable to render, please try loading this page with nbviewer.org.</b></div><div class=\"sk-container\" hidden><div class=\"sk-item\"><div class=\"sk-estimator sk-toggleable\"><input class=\"sk-toggleable__control sk-hidden--visually\" id=\"sk-estimator-id-1\" type=\"checkbox\" checked><label for=\"sk-estimator-id-1\" class=\"sk-toggleable__label sk-toggleable__label-arrow\">CountVectorizer</label><div class=\"sk-toggleable__content\"><pre>CountVectorizer(analyzer=&#x27;char_wb&#x27;, ngram_range=(3, 3))</pre></div></div></div></div></div>"
            ]
          },
          "metadata": {},
          "execution_count": 12
        }
      ]
    },
    {
      "cell_type": "code",
      "source": [
        "wh_size = len(word_hashing.vocabulary_)\n",
        "print(f'Number of letter trigrams: {wh_size}')\n",
        "print(word_hashing.get_feature_names_out())"
      ],
      "metadata": {
        "colab": {
          "base_uri": "https://localhost:8080/"
        },
        "id": "xhkeN3XDEAnl",
        "outputId": "c95e9ce7-1a32-4ecd-aa55-a0f79ec976d1"
      },
      "execution_count": 13,
      "outputs": [
        {
          "output_type": "stream",
          "name": "stdout",
          "text": [
            "Number of letter trigrams: 5100\n",
            "[' 0 ' ' 00' ' 01' ... 'zyn' 'zz ' 'zzl']\n"
          ]
        }
      ]
    },
    {
      "cell_type": "code",
      "source": [
        "import matplotlib.pyplot as plt\n",
        "\n",
        "# Compute trigram counts\n",
        "trigram_counts = word_hashing.transform(list(doc_dict.values()) + list(qry_dict.values())).sum(axis=0)\n",
        "\n",
        "# Create dictionary with trigram counts\n",
        "trigram_dict = {}\n",
        "for trigram, count in zip(word_hashing.get_feature_names_out(), trigram_counts.tolist()[0]):\n",
        "    trigram_dict[trigram] = count\n",
        "\n",
        "# Plot pie chart\n",
        "plt.pie(trigram_dict.values(), labels=trigram_dict.keys())\n",
        "plt.title('Letter Trigram Distribution')\n",
        "plt.show()"
      ],
      "metadata": {
        "colab": {
          "base_uri": "https://localhost:8080/",
          "height": 428
        },
        "id": "7AgYPhQPbJs9",
        "outputId": "23bab441-8c06-4ae9-aa9e-2424d4c537e0"
      },
      "execution_count": 14,
      "outputs": [
        {
          "output_type": "display_data",
          "data": {
            "text/plain": [
              "<Figure size 640x480 with 1 Axes>"
            ],
            "image/png": "[encoded data removed]"
          },
          "metadata": {}
        }
      ]
    },
    {
      "cell_type": "code",
      "source": [
        "# create train set: [q, d+, d1-, d2-, d3-, d4-]\n",
        "train_set = []\n",
        "for q, doc_ids in rel_dict.items():\n",
        "  if q not in test_qry_set:\n",
        "    for idx, d in enumerate(doc_ids):\n",
        "      sample = [q, d] + unrel_dict[q][idx * 4:(idx + 1) * 4]\n",
        "      train_set.append(sample)\n",
        "train_set = np.array(train_set)\n",
        "print('Examples of training samples in train set: [q, d+, d1-, d2-, d3-, d4-]')\n",
        "pprint(train_set)\n",
        "train_set.shape"
      ],
      "metadata": {
        "colab": {
          "base_uri": "https://localhost:8080/"
        },
        "id": "xN2SIvr_bNNp",
        "outputId": "3399c628-0ae4-44fb-8852-ec863c91e9f2"
      },
      "execution_count": 15,
      "outputs": [
        {
          "output_type": "stream",
          "name": "stdout",
          "text": [
            "Examples of training samples in train set: [q, d+, d1-, d2-, d3-, d4-]\n",
            "array([[   1,  184,  441,  953, 1144,  987],\n",
            "       [   1,   29,  699,  293,  742,  855],\n",
            "       [   1,   31,  922,  559,  965,  825],\n",
            "       ...,\n",
            "       [ 224, 1157, 1305,  573,  387,  261],\n",
            "       [ 224, 1274,   83,  878,  956,  817],\n",
            "       [ 224, 1286, 1056,  417, 1382,  934]])\n"
          ]
        },
        {
          "output_type": "execute_result",
          "data": {
            "text/plain": [
              "(1661, 6)"
            ]
          },
          "metadata": {},
          "execution_count": 15
        }
      ]
    },
    {
      "cell_type": "markdown",
      "source": [
        "## Create Testing Samples"
      ],
      "metadata": {
        "id": "urbhpUQTCwSu"
      }
    },
    {
      "cell_type": "code",
      "source": [
        "doc_id_all = np.array(list(doc_dict.keys()))\n",
        "test_set = []\n",
        "for q in test_qry_set:\n",
        "  for i in range(0, 920, 5):\n",
        "    if i == 920:\n",
        "      test_set.append([q, doc_id_all[i], doc_id_all[i + 1], 0, 0, 0])\n",
        "    else:\n",
        "      test_set.append([q, doc_id_all[i], doc_id_all[i + 1], doc_id_all[i + 2], doc_id_all[i + 3], doc_id_all[i + 4]])\n",
        "doc_dict[0] = ''\n",
        "test_set = np.array(test_set)\n",
        "print(test_set)"
      ],
      "metadata": {
        "id": "yd2lF5HaC0y-",
        "colab": {
          "base_uri": "https://localhost:8080/"
        },
        "outputId": "06a13643-330d-4939-8c2c-7dc9c1aedfc2"
      },
      "execution_count": 16,
      "outputs": [
        {
          "output_type": "stream",
          "name": "stdout",
          "text": [
            "[[ 205    1    2    3    4    5]\n",
            " [ 205   11   12   13   14   15]\n",
            " [ 205   18   19   20   21   22]\n",
            " ...\n",
            " [  85 1378 1379 1380 1381 1382]\n",
            " [  85 1383 1384 1385 1386 1390]\n",
            " [  85 1391 1392 1393 1394 1395]]\n"
          ]
        }
      ]
    },
    {
      "cell_type": "markdown",
      "source": [
        "## Generate TF Dataset"
      ],
      "metadata": {
        "id": "_fDjyehRtsZZ"
      }
    },
    {
      "cell_type": "code",
      "source": [
        "class DataGeneration(tf.keras.utils.Sequence):\n",
        "  \n",
        "  def __init__(self, dataset, batch_size, wh_model, shuffle=True):\n",
        "    self.data = dataset\n",
        "    self.data_size = len(self.data)\n",
        "    self.indexes = np.arange(self.data_size)\n",
        "    self.batch_size = batch_size\n",
        "    self.wh_model = wh_model\n",
        "    self.shuffle = shuffle\n",
        "  \n",
        "  def __getitem__(self, idx):\n",
        "    # get data in batch\n",
        "    last_index = (idx + 1) * self.batch_size\n",
        "    if last_index < self.data_size:\n",
        "      indexes = self.indexes[idx * self.batch_size:last_index]\n",
        "    else:\n",
        "      indexes = self.indexes[idx * self.batch_size:]\n",
        "    batch_data = self.data[indexes]\n",
        "    # use word hashing to embed data\n",
        "    batch_data_embed = np.zeros((0, 6, wh_size))\n",
        "    for i, row in enumerate(batch_data):\n",
        "      batch_data_embed = np.concatenate([batch_data_embed, tf.expand_dims(self.embed(row), axis=0)], axis=0)\n",
        "    \n",
        "    return batch_data_embed, tf.zeros((batch_data_embed.shape[0], 1))  # y_true is useless in the model\n",
        "\n",
        "  def __len__(self):\n",
        "    return self.data_size // self.batch_size + 1\n",
        "\n",
        "  def on_epoch_end(self):\n",
        "    if self.shuffle:\n",
        "      np.random.RandomState(2023).shuffle(self.indexes)\n",
        "  \n",
        "  def embed(self, row):\n",
        "    default_value = None\n",
        "\n",
        "    row_list = [qry_dict.get(row[0], default_value)]\n",
        "    for i in range(1, 6):\n",
        "        row_list.append(doc_dict.get(row[i], default_value))\n",
        "\n",
        "    # Filter out any None values before transforming\n",
        "    filtered_row_list = [x for x in row_list if x is not None]\n",
        "    transformed_data = self.wh_model.transform(filtered_row_list).toarray()\n",
        "\n",
        "    # Create an output array with the desired shape and fill it with the transformed data\n",
        "    output_array = np.zeros((6, wh_size))\n",
        "    output_array[:transformed_data.shape[0], :transformed_data.shape[1]] = transformed_data\n",
        "\n",
        "    return output_array"
      ],
      "metadata": {
        "id": "WSnwuHeJtHPB"
      },
      "execution_count": 17,
      "outputs": []
    },
    {
      "cell_type": "code",
      "source": [
        "train = DataGeneration(train_set, batch_size=32, wh_model=word_hashing)\n",
        "test = DataGeneration(test_set, batch_size=32, wh_model=word_hashing)\n"
      ],
      "metadata": {
        "id": "a2UMF_zR9yAE"
      },
      "execution_count": 20,
      "outputs": []
    },
    {
      "cell_type": "markdown",
      "source": [
        "## Define DSSM"
      ],
      "metadata": {
        "id": "LyfEvZ9PGEsS"
      }
    },
    {
      "cell_type": "code",
      "source": [
        "# define cosine similarity layer\n",
        "class CosSim(tf.keras.layers.Layer):\n",
        "  def __init__(self):\n",
        "    super().__init__()\n",
        "  \n",
        "  def __call__(self, a, b):\n",
        "    dot_product = tf.multiply(tf.math.l2_normalize(a, axis=1), tf.math.l2_normalize(b, axis=1))\n",
        "    return tf.math.reduce_sum(dot_product, axis=1, keepdims=True)"
      ],
      "metadata": {
        "id": "keTFHYwBCggo"
      },
      "execution_count": 21,
      "outputs": []
    },
    {
      "cell_type": "code",
      "source": [
        "# define DSSM model\n",
        "class DSSM(tf.keras.Model):\n",
        "  \n",
        "  def __init__(self):\n",
        "    super().__init__()\n",
        "    self.fcn = tf.keras.Sequential(\n",
        "        [tf.keras.layers.Dense(300, activation='tanh'),\n",
        "         tf.keras.layers.Dense(300, activation='tanh'),\n",
        "         tf.keras.layers.Dense(128, activation='tanh')])\n",
        "    self.sim = CosSim()\n",
        "    self.concat = tf.keras.layers.Concatenate(axis=-1)\n",
        "\n",
        "  def call(self, x):\n",
        "    # fully connected layers\n",
        "    q = self.fcn(x[:, :3])\n",
        "    d = self.fcn(x[:, :3])\n",
        "    d1 = self.fcn(x[:, :3])\n",
        "    d2 = self.fcn(x[:, 3:])\n",
        "    d3 = self.fcn(x[:, 3:])\n",
        "    d4 = self.fcn(x[:, 3:])\n",
        "    # cosine similarity\n",
        "    return self.concat([self.sim(q, d), self.sim(q, d1), self.sim(q, d2), self.sim(q, d3), self.sim(q, d4)])"
      ],
      "metadata": {
        "id": "l9-XSAIAHwe7"
      },
      "execution_count": 22,
      "outputs": []
    },
    {
      "cell_type": "code",
      "source": [
        "# define the loss of DSSM\n",
        "class DSSMLoss(tf.keras.losses.Loss):\n",
        "  \n",
        "  def call(self, y_true, y_pred):\n",
        "    return -tf.math.log(tf.nn.softmax(y_pred, axis=-1)[:, 0])"
      ],
      "metadata": {
        "id": "LdoaT4AGcUNI"
      },
      "execution_count": 23,
      "outputs": []
    },
    {
      "cell_type": "code",
      "source": [
        "# define early stopping\n",
        "early_stopping = tf.keras.callbacks.EarlyStopping(\n",
        "    monitor='loss',\n",
        "    min_delta=0.001,\n",
        "    verbose=1)\n",
        "# compile the model\n",
        "model = DSSM()\n",
        "model.compile(loss=DSSMLoss(), optimizer=tf.optimizers.Adam(learning_rate=0.0005))"
      ],
      "metadata": {
        "id": "rjr5jj3_cViw"
      },
      "execution_count": 24,
      "outputs": []
    },
    {
      "cell_type": "markdown",
      "source": [
        "## Train"
      ],
      "metadata": {
        "id": "Y-Ek7VVujOI0"
      }
    },
    {
      "cell_type": "code",
      "source": [
        "model.fit(train, epochs=20, callbacks=[early_stopping])"
      ],
      "metadata": {
        "colab": {
          "base_uri": "https://localhost:8080/"
        },
        "id": "tYkTtO2Nco1G",
        "outputId": "14af55b8-8b4d-4602-9207-a4805fe485a8"
      },
      "execution_count": 25,
      "outputs": [
        {
          "output_type": "stream",
          "name": "stdout",
          "text": [
            "Epoch 1/20\n",
            "52/52 [==============================] - 17s 250ms/step - loss: 6.4700\n",
            "Epoch 2/20\n",
            "52/52 [==============================] - 13s 243ms/step - loss: 6.4637\n",
            "Epoch 3/20\n",
            "52/52 [==============================] - 17s 315ms/step - loss: 6.4629\n",
            "Epoch 3: early stopping\n"
          ]
        },
        {
          "output_type": "execute_result",
          "data": {
            "text/plain": [
              "<keras.callbacks.History at 0x7ff0b3c52350>"
            ]
          },
          "metadata": {},
          "execution_count": 25
        }
      ]
    },
    {
      "cell_type": "code",
      "source": [
        "test_pred = model.predict(test)"
      ],
      "metadata": {
        "colab": {
          "base_uri": "https://localhost:8080/"
        },
        "id": "QBfL25D4czZJ",
        "outputId": "f90b90d1-0653-4c7e-c32c-9ddd8f107149"
      },
      "execution_count": 26,
      "outputs": [
        {
          "output_type": "stream",
          "name": "stdout",
          "text": [
            "127/127 [==============================] - 33s 259ms/step\n"
          ]
        }
      ]
    },
    {
      "cell_type": "code",
      "source": [
        "# define average precision (AP)\n",
        "def avg_precision(retrieved_docs, relevant_docs):\n",
        "  tp, fp, sum_precision = 0, 0, 0\n",
        "  for i, doc in enumerate(retrieved_docs):\n",
        "    if doc in relevant_docs:\n",
        "      tp += 1\n",
        "      sum_precision += tp / (tp + fp)\n",
        "    else:\n",
        "      fp += 1\n",
        "  return sum_precision / len(retrieved_docs)\n",
        "# define reciprocal rank (RR)\n",
        "def reciprocal_rank(retrieved_docs, relevant_docs):\n",
        "  rr = 0\n",
        "  for i, doc in enumerate(retrieved_docs):\n",
        "    if doc in relevant_docs:\n",
        "      rr = 1 / (i + 1)\n",
        "      break\n",
        " \n"
      ],
      "metadata": {
        "id": "iZbX4HFTc6Z0"
      },
      "execution_count": 27,
      "outputs": []
    },
    {
      "cell_type": "code",
      "source": [
        "ap, rr = 0, 0\n",
        "test_seg = test_pred.shape[0] // len(test_qry_set)\n",
        "for i, q in enumerate(test_qry_set):\n",
        "  test_pred_q = test_pred[i * test_seg:(i + 1) * test_seg].flatten()[:1162]  # all predictions for each query\n",
        "  retrieved_10_idx = np.argsort(test_pred_q)[::-1][:10]  # reverse sort and get top-10 index\n",
        "  ap += avg_precision(doc_id_all[retrieved_10_idx], rel_dict[q])\n",
        "  rr += reciprocal_rank(doc_id_all[retrieved_10_idx], rel_dict[q])\n",
        "print(f'MAP@10: {ap / len(test_qry_set)}')\n",
        "print(f'MRR@10: {rr / len(test_qry_set)}')"
      ],
      "metadata": {
        "colab": {
          "base_uri": "https://localhost:8080/"
        },
        "id": "ZD956T1vdGiY",
        "outputId": "6c387b54-f368-4ef1-c346-fce414cba82e"
      },
      "execution_count": 31,
      "outputs": [
        {
          "output_type": "stream",
          "name": "stdout",
          "text": [
            "MAP@10: 0.005681818181818182\n",
            "MRR@10: 0.056818181818181816\n"
          ]
        }
      ]
    },
    {
      "cell_type": "code",
      "source": [
        "model.fit(train, epochs=40, callbacks=[early_stopping])"
      ],
      "metadata": {
        "colab": {
          "base_uri": "https://localhost:8080/"
        },
        "id": "G4m3p3RkdZng",
        "outputId": "d7f1acaf-9d8f-4074-b9c2-82dc0eb12237"
      },
      "execution_count": 32,
      "outputs": [
        {
          "output_type": "stream",
          "name": "stdout",
          "text": [
            "Epoch 1/40\n",
            "52/52 [==============================] - 13s 255ms/step - loss: 6.4623\n",
            "Epoch 2/40\n",
            "52/52 [==============================] - 15s 289ms/step - loss: 6.4619\n",
            "Epoch 2: early stopping\n"
          ]
        },
        {
          "output_type": "execute_result",
          "data": {
            "text/plain": [
              "<keras.callbacks.History at 0x7ff0b3ad7f70>"
            ]
          },
          "metadata": {},
          "execution_count": 32
        }
      ]
    },
    {
      "cell_type": "markdown",
      "source": [
        "## Evaluate"
      ],
      "metadata": {
        "id": "VeaAg90ZyJ-K"
      }
    },
    {
      "cell_type": "code",
      "source": [
        "test_pred = model.predict(test)"
      ],
      "metadata": {
        "colab": {
          "base_uri": "https://localhost:8080/"
        },
        "id": "hC3SooLM0DfA",
        "outputId": "f436845b-51e4-42ce-e905-c323b4553ddc"
      },
      "execution_count": 33,
      "outputs": [
        {
          "output_type": "stream",
          "name": "stdout",
          "text": [
            "127/127 [==============================] - 29s 230ms/step\n"
          ]
        }
      ]
    },
    {
      "cell_type": "code",
      "source": [
        "ap, rr = 0, 0\n",
        "test_seg = test_pred.shape[0] // len(test_qry_set)\n",
        "for i, q in enumerate(test_qry_set):\n",
        "  test_pred_q = test_pred[i * test_seg:(i + 1) * test_seg].flatten()[:1162]  # all predictions for each query\n",
        "  retrieved_10_idx = np.argsort(test_pred_q)[::-1][:10]  # reverse sort and get top-10 index\n",
        "  ap += avg_precision(doc_id_all[retrieved_10_idx], rel_dict[q])\n",
        "  rr += reciprocal_rank(doc_id_all[retrieved_10_idx], rel_dict[q])\n",
        "print(f'MAP@10: {ap / len(test_qry_set)}')\n",
        "print(f'MRR@10: {rr / len(test_qry_set)}')"
      ],
      "metadata": {
        "id": "kD4T97VAsrx1",
        "colab": {
          "base_uri": "https://localhost:8080/"
        },
        "outputId": "dd9e3bed-bbe8-46fb-8801-813f8b3b1ef0"
      },
      "execution_count": 34,
      "outputs": [
        {
          "output_type": "stream",
          "name": "stdout",
          "text": [
            "MAP@10: 0.00681818181818182\n",
            "MRR@10: 0.06818181818181818\n"
          ]
        }
      ]
    },
    {
      "cell_type": "code",
      "source": [
        "model.fit(train, epochs=60, callbacks=[early_stopping])"
      ],
      "metadata": {
        "colab": {
          "base_uri": "https://localhost:8080/"
        },
        "id": "grWpI0pvd9mu",
        "outputId": "4ef665d8-833a-46e7-84df-3f8350a81a1c"
      },
      "execution_count": 37,
      "outputs": [
        {
          "output_type": "stream",
          "name": "stdout",
          "text": [
            "Epoch 1/60\n",
            "52/52 [==============================] - 15s 286ms/step - loss: 6.4615\n",
            "Epoch 2/60\n",
            "52/52 [==============================] - 13s 255ms/step - loss: 6.4615\n",
            "Epoch 2: early stopping\n"
          ]
        },
        {
          "output_type": "execute_result",
          "data": {
            "text/plain": [
              "<keras.callbacks.History at 0x7ff0b3ae04c0>"
            ]
          },
          "metadata": {},
          "execution_count": 37
        }
      ]
    },
    {
      "cell_type": "code",
      "source": [
        "test_pred = model.predict(test)"
      ],
      "metadata": {
        "colab": {
          "base_uri": "https://localhost:8080/"
        },
        "id": "qQUE3tBNeYGZ",
        "outputId": "b2f3ad31-b4bf-4b8c-f25e-ff368268c3de"
      },
      "execution_count": 38,
      "outputs": [
        {
          "output_type": "stream",
          "name": "stdout",
          "text": [
            "127/127 [==============================] - 24s 191ms/step\n"
          ]
        }
      ]
    },
    {
      "cell_type": "code",
      "source": [
        "ap, rr = 0, 0\n",
        "test_seg = test_pred.shape[0] // len(test_qry_set)\n",
        "for i, q in enumerate(test_qry_set):\n",
        "  test_pred_q = test_pred[i * test_seg:(i + 1) * test_seg].flatten()[:924]  # all predictions for each query\n",
        "  retrieved_10_idx = np.argsort(test_pred_q)[::-1][:10]  # reverse sort and get top-10 index\n",
        "  ap += avg_precision(doc_id_all[retrieved_10_idx], rel_dict[q])\n",
        "  rr += reciprocal_rank(doc_id_all[retrieved_10_idx], rel_dict[q])\n",
        "print(f'MAP@10: {ap / len(test_qry_set)}')\n",
        "print(f'MRR@10: {rr / len(test_qry_set)}')"
      ],
      "metadata": {
        "id": "lUfgzK7UmCF5",
        "colab": {
          "base_uri": "https://localhost:8080/"
        },
        "outputId": "0edaaee9-3bc1-4eb6-b0ff-38fa3ac4d03b"
      },
      "execution_count": null,
      "outputs": [
        {
          "output_type": "stream",
          "name": "stdout",
          "text": [
            "MAP@10: 0.06587301587301587\n",
            "MRR@10: 0.21428571428571427\n"
          ]
        }
      ]
    },
    {
      "cell_type": "code",
      "source": [
        "model.fit(train, epochs=100, callbacks=[early_stopping])"
      ],
      "metadata": {
        "colab": {
          "base_uri": "https://localhost:8080/"
        },
        "id": "FETLrguKeLD0",
        "outputId": "d0977070-aa9d-4ea0-d459-5e3ad38f4c2c"
      },
      "execution_count": 41,
      "outputs": [
        {
          "output_type": "stream",
          "name": "stdout",
          "text": [
            "Epoch 1/100\n",
            "52/52 [==============================] - 14s 262ms/step - loss: 6.4615\n",
            "Epoch 2/100\n",
            "52/52 [==============================] - 17s 333ms/step - loss: 6.4615\n",
            "Epoch 2: early stopping\n"
          ]
        },
        {
          "output_type": "execute_result",
          "data": {
            "text/plain": [
              "<keras.callbacks.History at 0x7ff0b803c340>"
            ]
          },
          "metadata": {},
          "execution_count": 41
        }
      ]
    },
    {
      "cell_type": "code",
      "source": [
        "test_pred = model.predict(test)"
      ],
      "metadata": {
        "colab": {
          "base_uri": "https://localhost:8080/"
        },
        "id": "vAicuWfffGBa",
        "outputId": "27d7285d-345d-4b31-8f47-abcc710ea6eb"
      },
      "execution_count": 42,
      "outputs": [
        {
          "output_type": "stream",
          "name": "stdout",
          "text": [
            "127/127 [==============================] - 34s 267ms/step\n"
          ]
        }
      ]
    },
    {
      "cell_type": "code",
      "source": [
        "ap, rr = 0, 0\n",
        "test_seg = test_pred.shape[0] // len(test_qry_set)\n",
        "for i, q in enumerate(test_qry_set):\n",
        "  test_pred_q = test_pred[i * test_seg:(i + 1) * test_seg].flatten()[:924]  # all predictions for each query\n",
        "  retrieved_10_idx = np.argsort(test_pred_q)[::-1][:10]  # reverse sort and get top-10 index\n",
        "  ap += avg_precision(doc_id_all[retrieved_10_idx], rel_dict[q])\n",
        "  rr += reciprocal_rank(doc_id_all[retrieved_10_idx], rel_dict[q])\n",
        "print(f'MAP@10: {ap / len(test_qry_set)}')\n",
        "print(f'MRR@10: {rr / len(test_qry_set)}')"
      ],
      "metadata": {
        "colab": {
          "base_uri": "https://localhost:8080/"
        },
        "id": "LFLGeD3He-gj",
        "outputId": "61eab719-8e7b-449c-f1bc-481756a86180"
      },
      "execution_count": 46,
      "outputs": [
        {
          "output_type": "stream",
          "name": "stdout",
          "text": [
            "MAP@10: 0.002813852813852814\n",
            "MRR@10: 0.01515151515151515\n"
          ]
        }
      ]
    },
    {
      "cell_type": "code",
      "source": [],
      "metadata": {
        "id": "sLZsyfYEhMJV"
      },
      "execution_count": null,
      "outputs": []
    }
  ]
}